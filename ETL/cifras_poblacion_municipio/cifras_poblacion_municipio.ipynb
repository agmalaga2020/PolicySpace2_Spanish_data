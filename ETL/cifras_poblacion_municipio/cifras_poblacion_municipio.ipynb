{
 "cells": [
  {
   "cell_type": "markdown",
   "metadata": {
    "colab_type": "text",
    "id": "view-in-github"
   },
   "source": [
    "<a href=\"https://colab.research.google.com/github/agmalaga2020/PolicySpace2_Spanish_data/blob/main/cifras_poblacion_municipio.ipynb\" target=\"_parent\"><img src=\"https://colab.research.google.com/assets/colab-badge.svg\" alt=\"Open In Colab\"/></a>"
   ]
  },
  {
   "cell_type": "markdown",
   "metadata": {
    "id": "80tFh4M2XVJq"
   },
   "source": [
    "# INICIO\n",
    "\n",
    "- 1º buscamos fuente a explorar\n",
    "https://uoc0-my.sharepoint.com/:x:/g/personal/agmalaga_uoc_edu/EVrtEuZkGqxMsXz3ENcmP8sB8w9sxyyFWBX3pDP282BDaQ?e=hZX8jz\n",
    "\n",
    "_______________________________________________________________\n",
    "\n",
    "- 2º `CARGAMOS` DATAFRAME ORIGINAL del proyecto **github**\n",
    "https://github.com/agmalaga2020/PolicySpace2-agmalaga/tree/master/input\n",
    "\n",
    "_______________________________________________________________\n",
    "- 3º Realizamos analisis exploratorio en google colab.\n",
    "_______________________________________________________________\n",
    "\n",
    "- 4º descargamos datos y creamos informe.\n",
    "_______________________________________________________________\n",
    "\n",
    "- 5º actualizar LINK de la columna `NOTEBOOK`\n",
    "https://uoc0-my.sharepoint.com/:x:/g/personal/agmalaga_uoc_edu/EVrtEuZkGqxMsXz3ENcmP8sB8w9sxyyFWBX3pDP282BDaQ?e=hZX8jz\n",
    "\n",
    "_______________________________________________________________\n",
    "\n",
    "ESQUEMA DE PROCESO\n",
    "\n",
    "https://whiteboard.office.com/me/whiteboards/p/c3BvOmh0dHBzOi8vdW9jMC1teS5zaGFyZXBvaW50LmNvbS9wZXJzb25hbC9hZ21hbGFnYV91b2NfZWR1/b!r4X97qYbxUyQGQNSpn-bfrNi376yDThFsrR2Kul1sxTx_nU34TfBSpdz-6pNWzvq/01E765GIPQJMS23ADWVBEID5XGUDPDSQNZ?source=applauncher&auth_upn=agmalaga%40uoc.edu"
   ]
  },
  {
   "cell_type": "markdown",
   "metadata": {
    "id": "um5pEiotgYfU"
   },
   "source": [
    "### pop_men_2000.csv \"ejemplo\"\n",
    "\n",
    "\n",
    "https://github.com/agmalaga2020/PolicySpace2-agmalaga/blob/master/input/pop_men_2000.csv"
   ]
  },
  {
   "cell_type": "code",
   "execution_count": 1,
   "metadata": {
    "colab": {
     "base_uri": "https://localhost:8080/"
    },
    "id": "Q8l3sjpCZQhH",
    "outputId": "f96ef08a-be2a-4be3-ce37-6bbafdbb0209"
   },
   "outputs": [
    {
     "name": "stdout",
     "output_type": "stream",
     "text": [
      "   cod_mun     0     1     2     3     4     5     6     7     8  ...  91  92  \\\n",
      "0  2700102   228   205   252   255   259   255   233   219   226  ...   1   1   \n",
      "1  2700201   210   223   202   229   194   222   221   227   212  ...   0   0   \n",
      "2  2700300  2140  2054  2052  2098  2210  2241  2123  2023  2071  ...  12  16   \n",
      "3  2700409   508   508   544   520   586   587   535   445   511  ...   4   2   \n",
      "4  2700508   175   161   164   159   177   179   142   132   149  ...   1   1   \n",
      "\n",
      "   93  94  95  96  97  98  99  100  \n",
      "0   3   1   1   1   0   1   0    5  \n",
      "1   1   3   1   0   0   0   0    0  \n",
      "2   7   9   7   8   9   4   2   13  \n",
      "3   0   3   2   1   2   1   0    6  \n",
      "4   2   1   0   0   0   0   0    1  \n",
      "\n",
      "[5 rows x 102 columns]\n",
      "el dataframe original de brasil contiene un total de municipios: 5485\n"
     ]
    }
   ],
   "source": [
    "import requests\n",
    "import pandas as pd\n",
    "import io\n",
    "\n",
    "# Update the URL to point to the raw CSV data on GitHub\n",
    "url = 'https://raw.githubusercontent.com/agmalaga2020/PolicySpace2-agmalaga/master/input/pop_men_2000.csv'\n",
    "s = requests.get(url).content\n",
    "\n",
    "# Read the CSV data using ';' as the separator\n",
    "df = pd.read_csv(io.StringIO(s.decode('utf-8')), sep=';')\n",
    "\n",
    "print(df.head())\n",
    "print(\"el dataframe original de brasil contiene un total de municipios:\", df.cod_mun.unique().shape[0])"
   ]
  },
  {
   "cell_type": "markdown",
   "metadata": {
    "id": "NoazZ8kx3ggF"
   },
   "source": [
    "# ESPAÑA\n",
    "\n",
    "tenemos que extraer tabla a tabla por municipio para finalmente transformar los datos para conseeguir el mismo resultado."
   ]
  },
  {
   "cell_type": "markdown",
   "metadata": {
    "id": "2ocWcL34Xrk9"
   },
   "source": [
    "### Población por sexo, municipios y edad (año a año) - Nacional\n",
    "\n",
    "https://www.ine.es/jaxiT3/Tabla.htm?t=33575&L=0\n",
    "\n",
    "# ocupa mas de 1 gb"
   ]
  },
  {
   "cell_type": "markdown",
   "metadata": {
    "id": "PtRrTP_l8GUV"
   },
   "source": [
    "### extraemos las tablas"
   ]
  },
  {
   "cell_type": "code",
   "execution_count": null,
   "metadata": {
    "id": "VWiSIgCF4jpt"
   },
   "outputs": [],
   "source": [
    "import requests\n",
    "import pandas as pd\n",
    "\n",
    "# Código de la tabla\n",
    "table_code = \"33575\"\n",
    "url_csv = f\"https://servicios.ine.es/wstempus/csv/ES/DATOS_TABLA/{table_code}?nult=999\"\n",
    "\n",
    "response = requests.get(url_csv)\n",
    "\n",
    "if response.status_code == 200:\n",
    "    csv_data = response.content.decode('utf-8')\n",
    "\n",
    "    # Guardar el archivo CSV con un nombre adecuado\n",
    "    file_name = \"tabla_33847.csv\"\n",
    "    with open(file_name, \"w\", encoding=\"utf-8\") as f:\n",
    "        f.write(csv_data)\n",
    "    print(f\"Archivo CSV guardado como '{file_name}'\")\n",
    "else:\n",
    "    print(\"Error en la petición: ❌\", response.status_code)\n",
    "\n",
    "# Leer el CSV\n",
    "df = pd.read_csv(file_name, sep='\\t', encoding='utf-8')\n",
    "\n",
    "# Mostrar las primeras filas\n",
    "print(df.head())\n",
    "print(\"Tabla actualizada conseguida ✅\")\n",
    "\n",
    "try:\n",
    "  df.to_csv('/content/33575.csv', index=False)\n",
    "  print(\"✅ Copia de df_nuevo_filtrado_2 guardada en '/content/33575.csv'\")\n",
    "except NameError:\n",
    "  print(\"⚠️ df no está definido. No se puede guardar la copia.\")\n",
    "print(\"Se ha guardado una copia del DataFrame df.\")\n"
   ]
  },
  {
   "cell_type": "code",
   "execution_count": null,
   "metadata": {},
   "outputs": [],
   "source": [
    "awk -F'\\t' '!($1 ~ /Total/) && !($2 ~ /Total Nacional/) && !($3 ~ /Todas las edades/)' ETL/cifras_poblacion_municipio/content/33575.csv > ETL/cifras_poblacion_municipio/content/poblacion_filtrado.csv\n"
   ]
  },
  {
   "cell_type": "code",
   "execution_count": 2,
   "metadata": {
    "id": "iedHCVM-0Joe"
   },
   "outputs": [
    {
     "ename": "FileNotFoundError",
     "evalue": "[Errno 2] No such file or directory: '/content/33575.csv'",
     "output_type": "error",
     "traceback": [
      "\u001b[31m---------------------------------------------------------------------------\u001b[39m",
      "\u001b[31mFileNotFoundError\u001b[39m                         Traceback (most recent call last)",
      "\u001b[36mCell\u001b[39m\u001b[36m \u001b[39m\u001b[32mIn[2]\u001b[39m\u001b[32m, line 4\u001b[39m\n\u001b[32m      1\u001b[39m \u001b[38;5;28;01mimport\u001b[39;00m \u001b[34;01mpandas\u001b[39;00m \u001b[38;5;28;01mas\u001b[39;00m \u001b[34;01mpd\u001b[39;00m\n\u001b[32m      3\u001b[39m \u001b[38;5;66;03m# Cargamos el DataFrame desde el archivo CSV\u001b[39;00m\n\u001b[32m----> \u001b[39m\u001b[32m4\u001b[39m df = \u001b[43mpd\u001b[49m\u001b[43m.\u001b[49m\u001b[43mread_csv\u001b[49m\u001b[43m(\u001b[49m\u001b[33;43m'\u001b[39;49m\u001b[33;43m/content/33575.csv\u001b[39;49m\u001b[33;43m'\u001b[39;49m\u001b[43m)\u001b[49m\n\u001b[32m      6\u001b[39m \u001b[38;5;66;03m# Mostramos las primeras filas del DataFrame\u001b[39;00m\n\u001b[32m      7\u001b[39m \u001b[38;5;28mprint\u001b[39m(df.head())\n",
      "\u001b[36mFile \u001b[39m\u001b[32m~/miniconda3/lib/python3.12/site-packages/pandas/io/parsers/readers.py:1026\u001b[39m, in \u001b[36mread_csv\u001b[39m\u001b[34m(filepath_or_buffer, sep, delimiter, header, names, index_col, usecols, dtype, engine, converters, true_values, false_values, skipinitialspace, skiprows, skipfooter, nrows, na_values, keep_default_na, na_filter, verbose, skip_blank_lines, parse_dates, infer_datetime_format, keep_date_col, date_parser, date_format, dayfirst, cache_dates, iterator, chunksize, compression, thousands, decimal, lineterminator, quotechar, quoting, doublequote, escapechar, comment, encoding, encoding_errors, dialect, on_bad_lines, delim_whitespace, low_memory, memory_map, float_precision, storage_options, dtype_backend)\u001b[39m\n\u001b[32m   1013\u001b[39m kwds_defaults = _refine_defaults_read(\n\u001b[32m   1014\u001b[39m     dialect,\n\u001b[32m   1015\u001b[39m     delimiter,\n\u001b[32m   (...)\u001b[39m\u001b[32m   1022\u001b[39m     dtype_backend=dtype_backend,\n\u001b[32m   1023\u001b[39m )\n\u001b[32m   1024\u001b[39m kwds.update(kwds_defaults)\n\u001b[32m-> \u001b[39m\u001b[32m1026\u001b[39m \u001b[38;5;28;01mreturn\u001b[39;00m \u001b[43m_read\u001b[49m\u001b[43m(\u001b[49m\u001b[43mfilepath_or_buffer\u001b[49m\u001b[43m,\u001b[49m\u001b[43m \u001b[49m\u001b[43mkwds\u001b[49m\u001b[43m)\u001b[49m\n",
      "\u001b[36mFile \u001b[39m\u001b[32m~/miniconda3/lib/python3.12/site-packages/pandas/io/parsers/readers.py:620\u001b[39m, in \u001b[36m_read\u001b[39m\u001b[34m(filepath_or_buffer, kwds)\u001b[39m\n\u001b[32m    617\u001b[39m _validate_names(kwds.get(\u001b[33m\"\u001b[39m\u001b[33mnames\u001b[39m\u001b[33m\"\u001b[39m, \u001b[38;5;28;01mNone\u001b[39;00m))\n\u001b[32m    619\u001b[39m \u001b[38;5;66;03m# Create the parser.\u001b[39;00m\n\u001b[32m--> \u001b[39m\u001b[32m620\u001b[39m parser = \u001b[43mTextFileReader\u001b[49m\u001b[43m(\u001b[49m\u001b[43mfilepath_or_buffer\u001b[49m\u001b[43m,\u001b[49m\u001b[43m \u001b[49m\u001b[43m*\u001b[49m\u001b[43m*\u001b[49m\u001b[43mkwds\u001b[49m\u001b[43m)\u001b[49m\n\u001b[32m    622\u001b[39m \u001b[38;5;28;01mif\u001b[39;00m chunksize \u001b[38;5;129;01mor\u001b[39;00m iterator:\n\u001b[32m    623\u001b[39m     \u001b[38;5;28;01mreturn\u001b[39;00m parser\n",
      "\u001b[36mFile \u001b[39m\u001b[32m~/miniconda3/lib/python3.12/site-packages/pandas/io/parsers/readers.py:1620\u001b[39m, in \u001b[36mTextFileReader.__init__\u001b[39m\u001b[34m(self, f, engine, **kwds)\u001b[39m\n\u001b[32m   1617\u001b[39m     \u001b[38;5;28mself\u001b[39m.options[\u001b[33m\"\u001b[39m\u001b[33mhas_index_names\u001b[39m\u001b[33m\"\u001b[39m] = kwds[\u001b[33m\"\u001b[39m\u001b[33mhas_index_names\u001b[39m\u001b[33m\"\u001b[39m]\n\u001b[32m   1619\u001b[39m \u001b[38;5;28mself\u001b[39m.handles: IOHandles | \u001b[38;5;28;01mNone\u001b[39;00m = \u001b[38;5;28;01mNone\u001b[39;00m\n\u001b[32m-> \u001b[39m\u001b[32m1620\u001b[39m \u001b[38;5;28mself\u001b[39m._engine = \u001b[38;5;28;43mself\u001b[39;49m\u001b[43m.\u001b[49m\u001b[43m_make_engine\u001b[49m\u001b[43m(\u001b[49m\u001b[43mf\u001b[49m\u001b[43m,\u001b[49m\u001b[43m \u001b[49m\u001b[38;5;28;43mself\u001b[39;49m\u001b[43m.\u001b[49m\u001b[43mengine\u001b[49m\u001b[43m)\u001b[49m\n",
      "\u001b[36mFile \u001b[39m\u001b[32m~/miniconda3/lib/python3.12/site-packages/pandas/io/parsers/readers.py:1880\u001b[39m, in \u001b[36mTextFileReader._make_engine\u001b[39m\u001b[34m(self, f, engine)\u001b[39m\n\u001b[32m   1878\u001b[39m     \u001b[38;5;28;01mif\u001b[39;00m \u001b[33m\"\u001b[39m\u001b[33mb\u001b[39m\u001b[33m\"\u001b[39m \u001b[38;5;129;01mnot\u001b[39;00m \u001b[38;5;129;01min\u001b[39;00m mode:\n\u001b[32m   1879\u001b[39m         mode += \u001b[33m\"\u001b[39m\u001b[33mb\u001b[39m\u001b[33m\"\u001b[39m\n\u001b[32m-> \u001b[39m\u001b[32m1880\u001b[39m \u001b[38;5;28mself\u001b[39m.handles = \u001b[43mget_handle\u001b[49m\u001b[43m(\u001b[49m\n\u001b[32m   1881\u001b[39m \u001b[43m    \u001b[49m\u001b[43mf\u001b[49m\u001b[43m,\u001b[49m\n\u001b[32m   1882\u001b[39m \u001b[43m    \u001b[49m\u001b[43mmode\u001b[49m\u001b[43m,\u001b[49m\n\u001b[32m   1883\u001b[39m \u001b[43m    \u001b[49m\u001b[43mencoding\u001b[49m\u001b[43m=\u001b[49m\u001b[38;5;28;43mself\u001b[39;49m\u001b[43m.\u001b[49m\u001b[43moptions\u001b[49m\u001b[43m.\u001b[49m\u001b[43mget\u001b[49m\u001b[43m(\u001b[49m\u001b[33;43m\"\u001b[39;49m\u001b[33;43mencoding\u001b[39;49m\u001b[33;43m\"\u001b[39;49m\u001b[43m,\u001b[49m\u001b[43m \u001b[49m\u001b[38;5;28;43;01mNone\u001b[39;49;00m\u001b[43m)\u001b[49m\u001b[43m,\u001b[49m\n\u001b[32m   1884\u001b[39m \u001b[43m    \u001b[49m\u001b[43mcompression\u001b[49m\u001b[43m=\u001b[49m\u001b[38;5;28;43mself\u001b[39;49m\u001b[43m.\u001b[49m\u001b[43moptions\u001b[49m\u001b[43m.\u001b[49m\u001b[43mget\u001b[49m\u001b[43m(\u001b[49m\u001b[33;43m\"\u001b[39;49m\u001b[33;43mcompression\u001b[39;49m\u001b[33;43m\"\u001b[39;49m\u001b[43m,\u001b[49m\u001b[43m \u001b[49m\u001b[38;5;28;43;01mNone\u001b[39;49;00m\u001b[43m)\u001b[49m\u001b[43m,\u001b[49m\n\u001b[32m   1885\u001b[39m \u001b[43m    \u001b[49m\u001b[43mmemory_map\u001b[49m\u001b[43m=\u001b[49m\u001b[38;5;28;43mself\u001b[39;49m\u001b[43m.\u001b[49m\u001b[43moptions\u001b[49m\u001b[43m.\u001b[49m\u001b[43mget\u001b[49m\u001b[43m(\u001b[49m\u001b[33;43m\"\u001b[39;49m\u001b[33;43mmemory_map\u001b[39;49m\u001b[33;43m\"\u001b[39;49m\u001b[43m,\u001b[49m\u001b[43m \u001b[49m\u001b[38;5;28;43;01mFalse\u001b[39;49;00m\u001b[43m)\u001b[49m\u001b[43m,\u001b[49m\n\u001b[32m   1886\u001b[39m \u001b[43m    \u001b[49m\u001b[43mis_text\u001b[49m\u001b[43m=\u001b[49m\u001b[43mis_text\u001b[49m\u001b[43m,\u001b[49m\n\u001b[32m   1887\u001b[39m \u001b[43m    \u001b[49m\u001b[43merrors\u001b[49m\u001b[43m=\u001b[49m\u001b[38;5;28;43mself\u001b[39;49m\u001b[43m.\u001b[49m\u001b[43moptions\u001b[49m\u001b[43m.\u001b[49m\u001b[43mget\u001b[49m\u001b[43m(\u001b[49m\u001b[33;43m\"\u001b[39;49m\u001b[33;43mencoding_errors\u001b[39;49m\u001b[33;43m\"\u001b[39;49m\u001b[43m,\u001b[49m\u001b[43m \u001b[49m\u001b[33;43m\"\u001b[39;49m\u001b[33;43mstrict\u001b[39;49m\u001b[33;43m\"\u001b[39;49m\u001b[43m)\u001b[49m\u001b[43m,\u001b[49m\n\u001b[32m   1888\u001b[39m \u001b[43m    \u001b[49m\u001b[43mstorage_options\u001b[49m\u001b[43m=\u001b[49m\u001b[38;5;28;43mself\u001b[39;49m\u001b[43m.\u001b[49m\u001b[43moptions\u001b[49m\u001b[43m.\u001b[49m\u001b[43mget\u001b[49m\u001b[43m(\u001b[49m\u001b[33;43m\"\u001b[39;49m\u001b[33;43mstorage_options\u001b[39;49m\u001b[33;43m\"\u001b[39;49m\u001b[43m,\u001b[49m\u001b[43m \u001b[49m\u001b[38;5;28;43;01mNone\u001b[39;49;00m\u001b[43m)\u001b[49m\u001b[43m,\u001b[49m\n\u001b[32m   1889\u001b[39m \u001b[43m\u001b[49m\u001b[43m)\u001b[49m\n\u001b[32m   1890\u001b[39m \u001b[38;5;28;01massert\u001b[39;00m \u001b[38;5;28mself\u001b[39m.handles \u001b[38;5;129;01mis\u001b[39;00m \u001b[38;5;129;01mnot\u001b[39;00m \u001b[38;5;28;01mNone\u001b[39;00m\n\u001b[32m   1891\u001b[39m f = \u001b[38;5;28mself\u001b[39m.handles.handle\n",
      "\u001b[36mFile \u001b[39m\u001b[32m~/miniconda3/lib/python3.12/site-packages/pandas/io/common.py:873\u001b[39m, in \u001b[36mget_handle\u001b[39m\u001b[34m(path_or_buf, mode, encoding, compression, memory_map, is_text, errors, storage_options)\u001b[39m\n\u001b[32m    868\u001b[39m \u001b[38;5;28;01melif\u001b[39;00m \u001b[38;5;28misinstance\u001b[39m(handle, \u001b[38;5;28mstr\u001b[39m):\n\u001b[32m    869\u001b[39m     \u001b[38;5;66;03m# Check whether the filename is to be opened in binary mode.\u001b[39;00m\n\u001b[32m    870\u001b[39m     \u001b[38;5;66;03m# Binary mode does not support 'encoding' and 'newline'.\u001b[39;00m\n\u001b[32m    871\u001b[39m     \u001b[38;5;28;01mif\u001b[39;00m ioargs.encoding \u001b[38;5;129;01mand\u001b[39;00m \u001b[33m\"\u001b[39m\u001b[33mb\u001b[39m\u001b[33m\"\u001b[39m \u001b[38;5;129;01mnot\u001b[39;00m \u001b[38;5;129;01min\u001b[39;00m ioargs.mode:\n\u001b[32m    872\u001b[39m         \u001b[38;5;66;03m# Encoding\u001b[39;00m\n\u001b[32m--> \u001b[39m\u001b[32m873\u001b[39m         handle = \u001b[38;5;28;43mopen\u001b[39;49m\u001b[43m(\u001b[49m\n\u001b[32m    874\u001b[39m \u001b[43m            \u001b[49m\u001b[43mhandle\u001b[49m\u001b[43m,\u001b[49m\n\u001b[32m    875\u001b[39m \u001b[43m            \u001b[49m\u001b[43mioargs\u001b[49m\u001b[43m.\u001b[49m\u001b[43mmode\u001b[49m\u001b[43m,\u001b[49m\n\u001b[32m    876\u001b[39m \u001b[43m            \u001b[49m\u001b[43mencoding\u001b[49m\u001b[43m=\u001b[49m\u001b[43mioargs\u001b[49m\u001b[43m.\u001b[49m\u001b[43mencoding\u001b[49m\u001b[43m,\u001b[49m\n\u001b[32m    877\u001b[39m \u001b[43m            \u001b[49m\u001b[43merrors\u001b[49m\u001b[43m=\u001b[49m\u001b[43merrors\u001b[49m\u001b[43m,\u001b[49m\n\u001b[32m    878\u001b[39m \u001b[43m            \u001b[49m\u001b[43mnewline\u001b[49m\u001b[43m=\u001b[49m\u001b[33;43m\"\u001b[39;49m\u001b[33;43m\"\u001b[39;49m\u001b[43m,\u001b[49m\n\u001b[32m    879\u001b[39m \u001b[43m        \u001b[49m\u001b[43m)\u001b[49m\n\u001b[32m    880\u001b[39m     \u001b[38;5;28;01melse\u001b[39;00m:\n\u001b[32m    881\u001b[39m         \u001b[38;5;66;03m# Binary mode\u001b[39;00m\n\u001b[32m    882\u001b[39m         handle = \u001b[38;5;28mopen\u001b[39m(handle, ioargs.mode)\n",
      "\u001b[31mFileNotFoundError\u001b[39m: [Errno 2] No such file or directory: '/content/33575.csv'"
     ]
    }
   ],
   "source": [
    "import pandas as pd\n",
    "\n",
    "# Cargamos el DataFrame desde el archivo CSV\n",
    "df = pd.read_csv('/content/33575.csv')\n",
    "\n",
    "# Mostramos las primeras filas del DataFrame\n",
    "print(df.head())\n"
   ]
  },
  {
   "cell_type": "code",
   "execution_count": 46,
   "metadata": {
    "colab": {
     "base_uri": "https://localhost:8080/"
    },
    "id": "V8Qhn7k3jkWq",
    "outputId": "96dafd50-1f01-4896-d1f6-b8a3d4c46b45"
   },
   "outputs": [
    {
     "name": "stdout",
     "output_type": "stream",
     "text": [
      "Valores únicos de la columna 'sexo':\n",
      "['Hombres' 'Mujeres']\n",
      "Longitud de valores únicos: 2\n",
      "Número de NaN: 0\n",
      "Tipo de dato de la columna: object\n",
      "\n",
      "Valores únicos de la columna 'edad':\n",
      "[ 0  1  2  3  4  5  6  7  8  9 10 11 12 13 14 15 16 17 18 19 20 21 22 23\n",
      " 24 25 26 27 28 29 30 31 32 33 34 35 36 37 38 39 40 41 42 43 44 45 46 47\n",
      " 48 49 50 51 52 53 54 55 56 57 58 59 60 61 62 63 64 65 66 67 68 69 70 71\n",
      " 72 73 74 75 76 77 78 79 80 81 82 83 84 85 86 87 88 89 90 91 92 93 94 95\n",
      " 96 97 98 99]\n",
      "Longitud de valores únicos: 100\n",
      "Número de NaN: 0\n",
      "Tipo de dato de la columna: int64\n",
      "\n",
      "Valores únicos de la columna 'periodo':\n",
      "['1 de enero de 2022' '1 de enero de 2021' '1 de enero de 2020'\n",
      " '1 de enero de 2019' '1 de enero de 2018' '1 de enero de 2017'\n",
      " '1 de enero de 2016' '1 de enero de 2015' '1 de enero de 2014'\n",
      " '1 de enero de 2013' '1 de enero de 2012' '1 de enero de 2011'\n",
      " '1 de enero de 2010' '1 de enero de 2009' '1 de enero de 2008'\n",
      " '1 de enero de 2007' '1 de enero de 2006' '1 de enero de 2005'\n",
      " '1 de enero de 2004' '1 de enero de 2003']\n",
      "Longitud de valores únicos: 20\n",
      "Número de NaN: 0\n",
      "Tipo de dato de la columna: object\n",
      "\n",
      "Valores únicos de la columna 'Total':\n",
      "['0' '1' '2' ... 1.285 1.326 1.359]\n",
      "Longitud de valores únicos: 7657\n",
      "Número de NaN: 0\n",
      "Tipo de dato de la columna: object\n",
      "\n",
      "Valores únicos de la columna 'provincia_code':\n",
      "['28']\n",
      "Longitud de valores únicos: 1\n",
      "Número de NaN: 0\n",
      "Tipo de dato de la columna: object\n",
      "\n",
      "Valores únicos de la columna 'provincia_name':\n",
      "['Madrid']\n",
      "Longitud de valores únicos: 1\n",
      "Número de NaN: 0\n",
      "Tipo de dato de la columna: object\n",
      "\n",
      "Valores únicos de la columna 'municipio_code':\n",
      "['28001' '28002' '28003' '28004' '28005' '28006' '28007' '28008' '28009'\n",
      " '28010' '28011' '28012' '28013' '28014' '28015' '28016' '28017' '28018'\n",
      " '28019' '28021' '28020' '28022' '28023' '28024' '28025' '28026' '28027'\n",
      " '28028' '28029' '28030' '28031' '28032' '28033' '28034' '28035' '28036'\n",
      " '28037' '28038' '28039' '28051' '28052' '28040' '28041' '28046' '28047'\n",
      " '28043' '28042' '28045' '28044' '28048' '28049' '28050' '28053' '28054'\n",
      " '28055' '28056' '28057' '28058' '28059' '28060' '28061' '28062' '28063'\n",
      " '28064' '28065' '28066' '28067' '28068' '28069' '28070' '28071' '28072'\n",
      " '28073' '28074' '28075' '28076' '28901' '28078' '28079' '28080' '28082'\n",
      " '28083' '28084' '28085' '28086' '28087' '28088' '28089' '28090' '28091'\n",
      " '28092' '28093' '28094' '28095' '28096' '28097' '28099' '28100' '28101'\n",
      " '28102' '28104' '28106' '28107' '28108' '28109' '28110' '28111' '28112'\n",
      " '28113' '28114' '28115' '28116' '28117' '28118' '28902' '28119' '28120'\n",
      " '28121' '28122' '28123' '28124' '28125' '28126' '28127' '28128' '28129'\n",
      " '28130' '28131' '28132' '28133' '28134' '28135' '28136' '28137' '28138'\n",
      " '28140' '28141' '28143' '28144' '28145' '28146' '28147' '28148' '28149'\n",
      " '28150' '28151' '28152' '28153' '28154' '28903' '28155' '28156' '28157'\n",
      " '28158' '28159' '28160' '28161' '28162' '28163' '28164' '28165' '28166'\n",
      " '28167' '28168' '28169' '28171' '28170' '28172' '28173' '28174' '28175'\n",
      " '28176' '28178' '28177' '28179' '28180' '28181' '28182' '28183']\n",
      "Longitud de valores únicos: 179\n",
      "Número de NaN: 0\n",
      "Tipo de dato de la columna: object\n",
      "\n",
      "Valores únicos de la columna 'municipio_name':\n",
      "['Acebeda, La' 'Ajalvir' 'Alameda del Valle' 'Álamo, El'\n",
      " 'Alcalá de Henares' 'Alcobendas' 'Alcorcón' 'Aldea del Fresno' 'Algete'\n",
      " 'Alpedrete' 'Ambite' 'Anchuelo' 'Aranjuez' 'Arganda del Rey'\n",
      " 'Arroyomolinos' 'Atazar, El' 'Batres' 'Becerril de la Sierra'\n",
      " 'Belmonte de Tajo' 'Berrueco, El' 'Berzosa del Lozoya'\n",
      " 'Boadilla del Monte' 'Boalo, El' 'Braojos' 'Brea de Tajo' 'Brunete'\n",
      " 'Buitrago del Lozoya' 'Bustarviejo' 'Cabanillas de la Sierra'\n",
      " 'Cabrera, La' 'Cadalso de los Vidrios' 'Camarma de Esteruelas'\n",
      " 'Campo Real' 'Canencia' 'Carabaña' 'Casarrubuelos' 'Cenicientos'\n",
      " 'Cercedilla' 'Cervera de Buitrago' 'Chapinería' 'Chinchón' 'Ciempozuelos'\n",
      " 'Cobeña' 'Collado Mediano' 'Collado Villalba' 'Colmenar de Oreja'\n",
      " 'Colmenar del Arroyo' 'Colmenar Viejo' 'Colmenarejo' 'Corpa' 'Coslada'\n",
      " 'Cubas de la Sagra' 'Daganzo de Arriba' 'Escorial, El' 'Estremera'\n",
      " 'Fresnedillas de la Oliva' 'Fresno de Torote' 'Fuenlabrada'\n",
      " 'Fuente el Saz de Jarama' 'Fuentidueña de Tajo' 'Galapagar'\n",
      " 'Garganta de los Montes' 'Gargantilla del Lozoya y Pinilla de Buitrago'\n",
      " 'Gascones' 'Getafe' 'Griñón' 'Guadalix de la Sierra' 'Guadarrama'\n",
      " 'Hiruela, La' 'Horcajo de la Sierra-Aoslos' 'Horcajuelo de la Sierra'\n",
      " 'Hoyo de Manzanares' 'Humanes de Madrid' 'Leganés' 'Loeches' 'Lozoya'\n",
      " 'Lozoyuela-Navas-Sieteiglesias' 'Madarcos' 'Madrid' 'Majadahonda'\n",
      " 'Manzanares el Real' 'Meco' 'Mejorada del Campo'\n",
      " 'Miraflores de la Sierra' 'Molar, El' 'Molinos, Los'\n",
      " 'Montejo de la Sierra' 'Moraleja de Enmedio' 'Moralzarzal'\n",
      " 'Morata de Tajuña' 'Móstoles' 'Navacerrada' 'Navalafuente'\n",
      " 'Navalagamella' 'Navalcarnero' 'Navarredonda y San Mamés' 'Navas del Rey'\n",
      " 'Nuevo Baztán' 'Olmeda de las Fuentes' 'Orusco de Tajuña'\n",
      " 'Paracuellos de Jarama' 'Parla' 'Patones' 'Pedrezuela'\n",
      " 'Pelayos de la Presa' 'Perales de Tajuña' 'Pezuela de las Torres'\n",
      " 'Pinilla del Valle' 'Pinto' 'Piñuécar-Gandullas' 'Pozuelo de Alarcón'\n",
      " 'Pozuelo del Rey' 'Prádena del Rincón' 'Puebla de la Sierra'\n",
      " 'Puentes Viejas' 'Quijorna' 'Rascafría' 'Redueña' 'Ribatejada'\n",
      " 'Rivas-Vaciamadrid' 'Robledillo de la Jara' 'Robledo de Chavela'\n",
      " 'Robregordo' 'Rozas de Madrid, Las' 'Rozas de Puerto Real'\n",
      " 'San Agustín del Guadalix' 'San Fernando de Henares'\n",
      " 'San Lorenzo de El Escorial' 'San Martín de la Vega'\n",
      " 'San Martín de Valdeiglesias' 'San Sebastián de los Reyes'\n",
      " 'Santa María de la Alameda' 'Santorcaz' 'Santos de la Humosa, Los'\n",
      " 'Serna del Monte, La' 'Serranillos del Valle' 'Sevilla la Nueva'\n",
      " 'Somosierra' 'Soto del Real' 'Talamanca de Jarama' 'Tielmes' 'Titulcia'\n",
      " 'Torrejón de Ardoz' 'Torrejón de la Calzada' 'Torrejón de Velasco'\n",
      " 'Torrelaguna' 'Torrelodones' 'Torremocha de Jarama'\n",
      " 'Torres de la Alameda' 'Tres Cantos' 'Valdaracete' 'Valdeavero'\n",
      " 'Valdelaguna' 'Valdemanco' 'Valdemaqueda' 'Valdemorillo' 'Valdemoro'\n",
      " 'Valdeolmos-Alalpardo' 'Valdepiélagos' 'Valdetorres de Jarama'\n",
      " 'Valdilecha' 'Valverde de Alcalá' 'Velilla de San Antonio' 'Vellón, El'\n",
      " 'Venturada' 'Villa del Prado' 'Villaconejos' 'Villalbilla'\n",
      " 'Villamanrique de Tajo' 'Villamanta' 'Villamantilla'\n",
      " 'Villanueva de la Cañada' 'Villanueva de Perales'\n",
      " 'Villanueva del Pardillo' 'Villar del Olmo' 'Villarejo de Salvanés'\n",
      " 'Villaviciosa de Odón' 'Villavieja del Lozoya' 'Zarzalejo']\n",
      "Longitud de valores únicos: 179\n",
      "Número de NaN: 0\n",
      "Tipo de dato de la columna: object\n",
      "\n"
     ]
    }
   ],
   "source": [
    "def print_unique_values_and_len(df):\n",
    "  \"\"\"Imprime los valores únicos de cada columna en un DataFrame y su longitud.\n",
    "  Args:\n",
    "    df: El DataFrame de pandas.\n",
    "  \"\"\"\n",
    "  for column in df.columns:\n",
    "    unique_values = df[column].unique()\n",
    "    nan_count = df[column].isna().sum()\n",
    "    print(f\"Valores únicos de la columna '{column}':\")\n",
    "    print(unique_values)\n",
    "    print(f\"Longitud de valores únicos: {len(unique_values)}\")\n",
    "    print(f\"Número de NaN: {nan_count}\")\n",
    "    print(f\"Tipo de dato de la columna: {df[column].dtype}\")\n",
    "    print()\n",
    "\n",
    "print_unique_values_and_len(df)"
   ]
  },
  {
   "cell_type": "markdown",
   "metadata": {
    "id": "nctNoqQnjSWu"
   },
   "source": [
    "✅ Resultado del análisis de valores únicos:\n",
    "\n",
    "- Todo está limpio: no hay `NaN`, y las categorías han quedado bien separadas.\n",
    "- `sexo`: 2 valores (`Hombres`, `Mujeres`).\n",
    "- `edad`: 101 edades entre `0 años` y `100 y más años`.\n",
    "- `periodo`: 20 años (2003 a 2022).\n",
    "- `Total`: 7.657 valores únicos, pero aún en formato texto con posibles comas o puntos.\n",
    "- `provincia_code` y `provincia_name`: solo un valor (`28`, `Madrid`).\n",
    "- `municipio_code` y `municipio_name`: 179 municipios distintos.\n",
    "\n",
    "¿Convertimos ahora `Total` a formato numérico (float) para análisis y agregaciones?"
   ]
  }
 ],
 "metadata": {
  "colab": {
   "authorship_tag": "ABX9TyM5bIA8YMU2KaJXZFjpVSf8",
   "include_colab_link": true,
   "provenance": []
  },
  "kernelspec": {
   "display_name": "Python 3 (ipykernel)",
   "language": "python",
   "name": "python3"
  },
  "language_info": {
   "codemirror_mode": {
    "name": "ipython",
    "version": 3
   },
   "file_extension": ".py",
   "mimetype": "text/x-python",
   "name": "python",
   "nbconvert_exporter": "python",
   "pygments_lexer": "ipython3",
   "version": "3.12.9"
  }
 },
 "nbformat": 4,
 "nbformat_minor": 4
}
