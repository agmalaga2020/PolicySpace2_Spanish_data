{
  "nbformat": 4,
  "nbformat_minor": 0,
  "metadata": {
    "colab": {
      "provenance": [],
      "authorship_tag": "ABX9TyM5bIA8YMU2KaJXZFjpVSf8",
      "include_colab_link": true
    },
    "kernelspec": {
      "name": "python3",
      "display_name": "Python 3"
    },
    "language_info": {
      "name": "python"
    }
  },
  "cells": [
    {
      "cell_type": "markdown",
      "metadata": {
        "id": "view-in-github",
        "colab_type": "text"
      },
      "source": [
        "<a href=\"https://colab.research.google.com/github/agmalaga2020/PolicySpace2_Spanish_data/blob/main/cifras_poblacion_municipio.ipynb\" target=\"_parent\"><img src=\"https://colab.research.google.com/assets/colab-badge.svg\" alt=\"Open In Colab\"/></a>"
      ]
    },
    {
      "cell_type": "markdown",
      "source": [
        "# INICIO\n",
        "\n",
        "- 1º buscamos fuente a explorar\n",
        "https://uoc0-my.sharepoint.com/:x:/g/personal/agmalaga_uoc_edu/EVrtEuZkGqxMsXz3ENcmP8sB8w9sxyyFWBX3pDP282BDaQ?e=hZX8jz\n",
        "\n",
        "_______________________________________________________________\n",
        "\n",
        "- 2º `CARGAMOS` DATAFRAME ORIGINAL del proyecto **github**\n",
        "https://github.com/agmalaga2020/PolicySpace2-agmalaga/tree/master/input\n",
        "\n",
        "_______________________________________________________________\n",
        "- 3º Realizamos analisis exploratorio en google colab.\n",
        "_______________________________________________________________\n",
        "\n",
        "- 4º descargamos datos y creamos informe.\n",
        "_______________________________________________________________\n",
        "\n",
        "- 5º actualizar LINK de la columna `NOTEBOOK`\n",
        "https://uoc0-my.sharepoint.com/:x:/g/personal/agmalaga_uoc_edu/EVrtEuZkGqxMsXz3ENcmP8sB8w9sxyyFWBX3pDP282BDaQ?e=hZX8jz\n",
        "\n",
        "_______________________________________________________________\n",
        "\n",
        "ESQUEMA DE PROCESO\n",
        "\n",
        "https://whiteboard.office.com/me/whiteboards/p/c3BvOmh0dHBzOi8vdW9jMC1teS5zaGFyZXBvaW50LmNvbS9wZXJzb25hbC9hZ21hbGFnYV91b2NfZWR1/b!r4X97qYbxUyQGQNSpn-bfrNi376yDThFsrR2Kul1sxTx_nU34TfBSpdz-6pNWzvq/01E765GIPQJMS23ADWVBEID5XGUDPDSQNZ?source=applauncher&auth_upn=agmalaga%40uoc.edu"
      ],
      "metadata": {
        "id": "80tFh4M2XVJq"
      }
    },
    {
      "cell_type": "markdown",
      "source": [
        "### pop_men_2000.csv \"ejemplo\"\n",
        "\n",
        "\n",
        "https://github.com/agmalaga2020/PolicySpace2-agmalaga/blob/master/input/pop_men_2000.csv"
      ],
      "metadata": {
        "id": "um5pEiotgYfU"
      }
    },
    {
      "cell_type": "code",
      "source": [
        "import requests\n",
        "import pandas as pd\n",
        "import io\n",
        "\n",
        "# Update the URL to point to the raw CSV data on GitHub\n",
        "url = 'https://raw.githubusercontent.com/agmalaga2020/PolicySpace2-agmalaga/master/input/pop_men_2000.csv'\n",
        "s = requests.get(url).content\n",
        "\n",
        "# Read the CSV data using ';' as the separator\n",
        "df = pd.read_csv(io.StringIO(s.decode('utf-8')), sep=';')\n",
        "\n",
        "print(df.head())\n",
        "print(\"el dataframe original de brasil contiene un total de municipios:\", df.cod_mun.unique().shape[0])"
      ],
      "metadata": {
        "colab": {
          "base_uri": "https://localhost:8080/"
        },
        "id": "Q8l3sjpCZQhH",
        "outputId": "f96ef08a-be2a-4be3-ce37-6bbafdbb0209"
      },
      "execution_count": 17,
      "outputs": [
        {
          "output_type": "stream",
          "name": "stdout",
          "text": [
            "   cod_mun     0     1     2     3     4     5     6     7     8  ...  91  92  \\\n",
            "0  2700102   228   205   252   255   259   255   233   219   226  ...   1   1   \n",
            "1  2700201   210   223   202   229   194   222   221   227   212  ...   0   0   \n",
            "2  2700300  2140  2054  2052  2098  2210  2241  2123  2023  2071  ...  12  16   \n",
            "3  2700409   508   508   544   520   586   587   535   445   511  ...   4   2   \n",
            "4  2700508   175   161   164   159   177   179   142   132   149  ...   1   1   \n",
            "\n",
            "   93  94  95  96  97  98  99  100  \n",
            "0   3   1   1   1   0   1   0    5  \n",
            "1   1   3   1   0   0   0   0    0  \n",
            "2   7   9   7   8   9   4   2   13  \n",
            "3   0   3   2   1   2   1   0    6  \n",
            "4   2   1   0   0   0   0   0    1  \n",
            "\n",
            "[5 rows x 102 columns]\n",
            "el dataframe original de brasil contiene un total de municipios: 5485\n"
          ]
        }
      ]
    },
    {
      "cell_type": "markdown",
      "source": [
        "# ESPAÑA\n",
        "\n",
        "tenemos que extraer tabla a tabla por municipio para finalmente transformar los datos para conseeguir el mismo resultado."
      ],
      "metadata": {
        "id": "NoazZ8kx3ggF"
      }
    },
    {
      "cell_type": "markdown",
      "source": [
        "### Población por sexo, municipios y edad (año a año) - Nacional\n",
        "\n",
        "https://www.ine.es/jaxiT3/Tabla.htm?t=33575&L=0\n",
        "\n",
        "# ocupa mas de 1 gb"
      ],
      "metadata": {
        "id": "2ocWcL34Xrk9"
      }
    },
    {
      "cell_type": "markdown",
      "source": [
        "### extraemos las tablas"
      ],
      "metadata": {
        "id": "PtRrTP_l8GUV"
      }
    },
    {
      "cell_type": "code",
      "source": [
        "import requests\n",
        "import pandas as pd\n",
        "\n",
        "# Código de la tabla\n",
        "table_code = \"33575\"\n",
        "url_csv = f\"https://servicios.ine.es/wstempus/csv/ES/DATOS_TABLA/{table_code}?nult=999\"\n",
        "\n",
        "response = requests.get(url_csv)\n",
        "\n",
        "if response.status_code == 200:\n",
        "    csv_data = response.content.decode('utf-8')\n",
        "\n",
        "    # Guardar el archivo CSV con un nombre adecuado\n",
        "    file_name = \"tabla_33847.csv\"\n",
        "    with open(file_name, \"w\", encoding=\"utf-8\") as f:\n",
        "        f.write(csv_data)\n",
        "    print(f\"Archivo CSV guardado como '{file_name}'\")\n",
        "else:\n",
        "    print(\"Error en la petición: ❌\", response.status_code)\n",
        "\n",
        "# Leer el CSV\n",
        "df = pd.read_csv(file_name, sep='\\t', encoding='utf-8')\n",
        "\n",
        "# Mostrar las primeras filas\n",
        "print(df.head())\n",
        "print(\"Tabla actualizada conseguida ✅\")\n",
        "\n",
        "try:\n",
        "  df.to_csv('/content/33575.csv', index=False)\n",
        "  print(\"✅ Copia de df_nuevo_filtrado_2 guardada en '/content/33575.csv'\")\n",
        "except NameError:\n",
        "  print(\"⚠️ df no está definido. No se puede guardar la copia.\")\n",
        "print(\"Se ha guardado una copia del DataFrame df.\")\n"
      ],
      "metadata": {
        "id": "VWiSIgCF4jpt"
      },
      "execution_count": null,
      "outputs": []
    },
    {
      "cell_type": "code",
      "source": [
        "import pandas as pd\n",
        "\n",
        "# Cargamos el DataFrame desde el archivo CSV\n",
        "df = pd.read_csv('/content/33575.csv')\n",
        "\n",
        "# Mostramos las primeras filas del DataFrame\n",
        "print(df.head())\n"
      ],
      "metadata": {
        "id": "iedHCVM-0Joe"
      },
      "execution_count": null,
      "outputs": []
    },
    {
      "cell_type": "code",
      "source": [
        "def print_unique_values_and_len(df):\n",
        "  \"\"\"Imprime los valores únicos de cada columna en un DataFrame y su longitud.\n",
        "  Args:\n",
        "    df: El DataFrame de pandas.\n",
        "  \"\"\"\n",
        "  for column in df.columns:\n",
        "    unique_values = df[column].unique()\n",
        "    nan_count = df[column].isna().sum()\n",
        "    print(f\"Valores únicos de la columna '{column}':\")\n",
        "    print(unique_values)\n",
        "    print(f\"Longitud de valores únicos: {len(unique_values)}\")\n",
        "    print(f\"Número de NaN: {nan_count}\")\n",
        "    print(f\"Tipo de dato de la columna: {df[column].dtype}\")\n",
        "    print()\n",
        "\n",
        "print_unique_values_and_len(df)"
      ],
      "metadata": {
        "colab": {
          "base_uri": "https://localhost:8080/"
        },
        "id": "V8Qhn7k3jkWq",
        "outputId": "96dafd50-1f01-4896-d1f6-b8a3d4c46b45"
      },
      "execution_count": 46,
      "outputs": [
        {
          "output_type": "stream",
          "name": "stdout",
          "text": [
            "Valores únicos de la columna 'sexo':\n",
            "['Hombres' 'Mujeres']\n",
            "Longitud de valores únicos: 2\n",
            "Número de NaN: 0\n",
            "Tipo de dato de la columna: object\n",
            "\n",
            "Valores únicos de la columna 'edad':\n",
            "[ 0  1  2  3  4  5  6  7  8  9 10 11 12 13 14 15 16 17 18 19 20 21 22 23\n",
            " 24 25 26 27 28 29 30 31 32 33 34 35 36 37 38 39 40 41 42 43 44 45 46 47\n",
            " 48 49 50 51 52 53 54 55 56 57 58 59 60 61 62 63 64 65 66 67 68 69 70 71\n",
            " 72 73 74 75 76 77 78 79 80 81 82 83 84 85 86 87 88 89 90 91 92 93 94 95\n",
            " 96 97 98 99]\n",
            "Longitud de valores únicos: 100\n",
            "Número de NaN: 0\n",
            "Tipo de dato de la columna: int64\n",
            "\n",
            "Valores únicos de la columna 'periodo':\n",
            "['1 de enero de 2022' '1 de enero de 2021' '1 de enero de 2020'\n",
            " '1 de enero de 2019' '1 de enero de 2018' '1 de enero de 2017'\n",
            " '1 de enero de 2016' '1 de enero de 2015' '1 de enero de 2014'\n",
            " '1 de enero de 2013' '1 de enero de 2012' '1 de enero de 2011'\n",
            " '1 de enero de 2010' '1 de enero de 2009' '1 de enero de 2008'\n",
            " '1 de enero de 2007' '1 de enero de 2006' '1 de enero de 2005'\n",
            " '1 de enero de 2004' '1 de enero de 2003']\n",
            "Longitud de valores únicos: 20\n",
            "Número de NaN: 0\n",
            "Tipo de dato de la columna: object\n",
            "\n",
            "Valores únicos de la columna 'Total':\n",
            "['0' '1' '2' ... 1.285 1.326 1.359]\n",
            "Longitud de valores únicos: 7657\n",
            "Número de NaN: 0\n",
            "Tipo de dato de la columna: object\n",
            "\n",
            "Valores únicos de la columna 'provincia_code':\n",
            "['28']\n",
            "Longitud de valores únicos: 1\n",
            "Número de NaN: 0\n",
            "Tipo de dato de la columna: object\n",
            "\n",
            "Valores únicos de la columna 'provincia_name':\n",
            "['Madrid']\n",
            "Longitud de valores únicos: 1\n",
            "Número de NaN: 0\n",
            "Tipo de dato de la columna: object\n",
            "\n",
            "Valores únicos de la columna 'municipio_code':\n",
            "['28001' '28002' '28003' '28004' '28005' '28006' '28007' '28008' '28009'\n",
            " '28010' '28011' '28012' '28013' '28014' '28015' '28016' '28017' '28018'\n",
            " '28019' '28021' '28020' '28022' '28023' '28024' '28025' '28026' '28027'\n",
            " '28028' '28029' '28030' '28031' '28032' '28033' '28034' '28035' '28036'\n",
            " '28037' '28038' '28039' '28051' '28052' '28040' '28041' '28046' '28047'\n",
            " '28043' '28042' '28045' '28044' '28048' '28049' '28050' '28053' '28054'\n",
            " '28055' '28056' '28057' '28058' '28059' '28060' '28061' '28062' '28063'\n",
            " '28064' '28065' '28066' '28067' '28068' '28069' '28070' '28071' '28072'\n",
            " '28073' '28074' '28075' '28076' '28901' '28078' '28079' '28080' '28082'\n",
            " '28083' '28084' '28085' '28086' '28087' '28088' '28089' '28090' '28091'\n",
            " '28092' '28093' '28094' '28095' '28096' '28097' '28099' '28100' '28101'\n",
            " '28102' '28104' '28106' '28107' '28108' '28109' '28110' '28111' '28112'\n",
            " '28113' '28114' '28115' '28116' '28117' '28118' '28902' '28119' '28120'\n",
            " '28121' '28122' '28123' '28124' '28125' '28126' '28127' '28128' '28129'\n",
            " '28130' '28131' '28132' '28133' '28134' '28135' '28136' '28137' '28138'\n",
            " '28140' '28141' '28143' '28144' '28145' '28146' '28147' '28148' '28149'\n",
            " '28150' '28151' '28152' '28153' '28154' '28903' '28155' '28156' '28157'\n",
            " '28158' '28159' '28160' '28161' '28162' '28163' '28164' '28165' '28166'\n",
            " '28167' '28168' '28169' '28171' '28170' '28172' '28173' '28174' '28175'\n",
            " '28176' '28178' '28177' '28179' '28180' '28181' '28182' '28183']\n",
            "Longitud de valores únicos: 179\n",
            "Número de NaN: 0\n",
            "Tipo de dato de la columna: object\n",
            "\n",
            "Valores únicos de la columna 'municipio_name':\n",
            "['Acebeda, La' 'Ajalvir' 'Alameda del Valle' 'Álamo, El'\n",
            " 'Alcalá de Henares' 'Alcobendas' 'Alcorcón' 'Aldea del Fresno' 'Algete'\n",
            " 'Alpedrete' 'Ambite' 'Anchuelo' 'Aranjuez' 'Arganda del Rey'\n",
            " 'Arroyomolinos' 'Atazar, El' 'Batres' 'Becerril de la Sierra'\n",
            " 'Belmonte de Tajo' 'Berrueco, El' 'Berzosa del Lozoya'\n",
            " 'Boadilla del Monte' 'Boalo, El' 'Braojos' 'Brea de Tajo' 'Brunete'\n",
            " 'Buitrago del Lozoya' 'Bustarviejo' 'Cabanillas de la Sierra'\n",
            " 'Cabrera, La' 'Cadalso de los Vidrios' 'Camarma de Esteruelas'\n",
            " 'Campo Real' 'Canencia' 'Carabaña' 'Casarrubuelos' 'Cenicientos'\n",
            " 'Cercedilla' 'Cervera de Buitrago' 'Chapinería' 'Chinchón' 'Ciempozuelos'\n",
            " 'Cobeña' 'Collado Mediano' 'Collado Villalba' 'Colmenar de Oreja'\n",
            " 'Colmenar del Arroyo' 'Colmenar Viejo' 'Colmenarejo' 'Corpa' 'Coslada'\n",
            " 'Cubas de la Sagra' 'Daganzo de Arriba' 'Escorial, El' 'Estremera'\n",
            " 'Fresnedillas de la Oliva' 'Fresno de Torote' 'Fuenlabrada'\n",
            " 'Fuente el Saz de Jarama' 'Fuentidueña de Tajo' 'Galapagar'\n",
            " 'Garganta de los Montes' 'Gargantilla del Lozoya y Pinilla de Buitrago'\n",
            " 'Gascones' 'Getafe' 'Griñón' 'Guadalix de la Sierra' 'Guadarrama'\n",
            " 'Hiruela, La' 'Horcajo de la Sierra-Aoslos' 'Horcajuelo de la Sierra'\n",
            " 'Hoyo de Manzanares' 'Humanes de Madrid' 'Leganés' 'Loeches' 'Lozoya'\n",
            " 'Lozoyuela-Navas-Sieteiglesias' 'Madarcos' 'Madrid' 'Majadahonda'\n",
            " 'Manzanares el Real' 'Meco' 'Mejorada del Campo'\n",
            " 'Miraflores de la Sierra' 'Molar, El' 'Molinos, Los'\n",
            " 'Montejo de la Sierra' 'Moraleja de Enmedio' 'Moralzarzal'\n",
            " 'Morata de Tajuña' 'Móstoles' 'Navacerrada' 'Navalafuente'\n",
            " 'Navalagamella' 'Navalcarnero' 'Navarredonda y San Mamés' 'Navas del Rey'\n",
            " 'Nuevo Baztán' 'Olmeda de las Fuentes' 'Orusco de Tajuña'\n",
            " 'Paracuellos de Jarama' 'Parla' 'Patones' 'Pedrezuela'\n",
            " 'Pelayos de la Presa' 'Perales de Tajuña' 'Pezuela de las Torres'\n",
            " 'Pinilla del Valle' 'Pinto' 'Piñuécar-Gandullas' 'Pozuelo de Alarcón'\n",
            " 'Pozuelo del Rey' 'Prádena del Rincón' 'Puebla de la Sierra'\n",
            " 'Puentes Viejas' 'Quijorna' 'Rascafría' 'Redueña' 'Ribatejada'\n",
            " 'Rivas-Vaciamadrid' 'Robledillo de la Jara' 'Robledo de Chavela'\n",
            " 'Robregordo' 'Rozas de Madrid, Las' 'Rozas de Puerto Real'\n",
            " 'San Agustín del Guadalix' 'San Fernando de Henares'\n",
            " 'San Lorenzo de El Escorial' 'San Martín de la Vega'\n",
            " 'San Martín de Valdeiglesias' 'San Sebastián de los Reyes'\n",
            " 'Santa María de la Alameda' 'Santorcaz' 'Santos de la Humosa, Los'\n",
            " 'Serna del Monte, La' 'Serranillos del Valle' 'Sevilla la Nueva'\n",
            " 'Somosierra' 'Soto del Real' 'Talamanca de Jarama' 'Tielmes' 'Titulcia'\n",
            " 'Torrejón de Ardoz' 'Torrejón de la Calzada' 'Torrejón de Velasco'\n",
            " 'Torrelaguna' 'Torrelodones' 'Torremocha de Jarama'\n",
            " 'Torres de la Alameda' 'Tres Cantos' 'Valdaracete' 'Valdeavero'\n",
            " 'Valdelaguna' 'Valdemanco' 'Valdemaqueda' 'Valdemorillo' 'Valdemoro'\n",
            " 'Valdeolmos-Alalpardo' 'Valdepiélagos' 'Valdetorres de Jarama'\n",
            " 'Valdilecha' 'Valverde de Alcalá' 'Velilla de San Antonio' 'Vellón, El'\n",
            " 'Venturada' 'Villa del Prado' 'Villaconejos' 'Villalbilla'\n",
            " 'Villamanrique de Tajo' 'Villamanta' 'Villamantilla'\n",
            " 'Villanueva de la Cañada' 'Villanueva de Perales'\n",
            " 'Villanueva del Pardillo' 'Villar del Olmo' 'Villarejo de Salvanés'\n",
            " 'Villaviciosa de Odón' 'Villavieja del Lozoya' 'Zarzalejo']\n",
            "Longitud de valores únicos: 179\n",
            "Número de NaN: 0\n",
            "Tipo de dato de la columna: object\n",
            "\n"
          ]
        }
      ]
    },
    {
      "cell_type": "markdown",
      "source": [
        "✅ Resultado del análisis de valores únicos:\n",
        "\n",
        "- Todo está limpio: no hay `NaN`, y las categorías han quedado bien separadas.\n",
        "- `sexo`: 2 valores (`Hombres`, `Mujeres`).\n",
        "- `edad`: 101 edades entre `0 años` y `100 y más años`.\n",
        "- `periodo`: 20 años (2003 a 2022).\n",
        "- `Total`: 7.657 valores únicos, pero aún en formato texto con posibles comas o puntos.\n",
        "- `provincia_code` y `provincia_name`: solo un valor (`28`, `Madrid`).\n",
        "- `municipio_code` y `municipio_name`: 179 municipios distintos.\n",
        "\n",
        "¿Convertimos ahora `Total` a formato numérico (float) para análisis y agregaciones?"
      ],
      "metadata": {
        "id": "nctNoqQnjSWu"
      }
    }
  ]
}