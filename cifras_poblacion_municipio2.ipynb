{
  "nbformat": 4,
  "nbformat_minor": 0,
  "metadata": {
    "colab": {
      "provenance": [],
      "authorship_tag": "ABX9TyORZlz5w+zMQEfURfpF4Lkk",
      "include_colab_link": true
    },
    "kernelspec": {
      "name": "python3",
      "display_name": "Python 3"
    },
    "language_info": {
      "name": "python"
    }
  },
  "cells": [
    {
      "cell_type": "markdown",
      "metadata": {
        "id": "view-in-github",
        "colab_type": "text"
      },
      "source": [
        "<a href=\"https://colab.research.google.com/github/agmalaga2020/PolicySpace2_Spanish_data/blob/main/cifras_poblacion_municipio2.ipynb\" target=\"_parent\"><img src=\"https://colab.research.google.com/assets/colab-badge.svg\" alt=\"Open In Colab\"/></a>"
      ]
    },
    {
      "cell_type": "markdown",
      "source": [
        "# INICIO\n",
        "\n",
        "- 1º buscamos fuente a explorar\n",
        "https://uoc0-my.sharepoint.com/:x:/g/personal/agmalaga_uoc_edu/EVrtEuZkGqxMsXz3ENcmP8sB8w9sxyyFWBX3pDP282BDaQ?e=hZX8jz\n",
        "\n",
        "_______________________________________________________________\n",
        "\n",
        "- 2º `CARGAMOS` DATAFRAME ORIGINAL del proyecto **github**\n",
        "https://github.com/agmalaga2020/PolicySpace2-agmalaga/tree/master/input\n",
        "\n",
        "_______________________________________________________________\n",
        "- 3º Realizamos analisis exploratorio en google colab.\n",
        "_______________________________________________________________\n",
        "\n",
        "- 4º descargamos datos y creamos informe.\n",
        "_______________________________________________________________\n",
        "\n",
        "- 5º actualizar LINK de la columna `NOTEBOOK`\n",
        "https://uoc0-my.sharepoint.com/:x:/g/personal/agmalaga_uoc_edu/EVrtEuZkGqxMsXz3ENcmP8sB8w9sxyyFWBX3pDP282BDaQ?e=hZX8jz\n",
        "\n",
        "_______________________________________________________________\n",
        "\n",
        "ESQUEMA DE PROCESO\n",
        "\n",
        "https://whiteboard.office.com/me/whiteboards/p/c3BvOmh0dHBzOi8vdW9jMC1teS5zaGFyZXBvaW50LmNvbS9wZXJzb25hbC9hZ21hbGFnYV91b2NfZWR1/b!r4X97qYbxUyQGQNSpn-bfrNi376yDThFsrR2Kul1sxTx_nU34TfBSpdz-6pNWzvq/01E765GIPQJMS23ADWVBEID5XGUDPDSQNZ?source=applauncher&auth_upn=agmalaga%40uoc.edu"
      ],
      "metadata": {
        "id": "80tFh4M2XVJq"
      }
    },
    {
      "cell_type": "markdown",
      "source": [
        "### pop_men_2000.csv \"ejemplo\"\n",
        "\n",
        "\n",
        "https://github.com/agmalaga2020/PolicySpace2-agmalaga/blob/master/input/pop_men_2000.csv"
      ],
      "metadata": {
        "id": "um5pEiotgYfU"
      }
    },
    {
      "cell_type": "code",
      "source": [
        "import requests\n",
        "import pandas as pd\n",
        "import io\n",
        "\n",
        "# Update the URL to point to the raw CSV data on GitHub\n",
        "url = 'https://raw.githubusercontent.com/agmalaga2020/PolicySpace2-agmalaga/master/input/pop_men_2000.csv'\n",
        "s = requests.get(url).content\n",
        "\n",
        "# Read the CSV data using ';' as the separator\n",
        "df_original = pd.read_csv(io.StringIO(s.decode('utf-8')), sep=';')\n",
        "\n",
        "print(df_original.head())\n",
        "print(\"el dataframe original de brasil contiene un total de municipios:\", df_original.cod_mun.unique().shape[0])"
      ],
      "metadata": {
        "colab": {
          "base_uri": "https://localhost:8080/",
          "height": 0
        },
        "id": "Q8l3sjpCZQhH",
        "outputId": "04769268-0f1a-441d-a859-c7b288dc899e"
      },
      "execution_count": 44,
      "outputs": [
        {
          "output_type": "stream",
          "name": "stdout",
          "text": [
            "   cod_mun     0     1     2     3     4     5     6     7     8  ...  91  92  \\\n",
            "0  2700102   228   205   252   255   259   255   233   219   226  ...   1   1   \n",
            "1  2700201   210   223   202   229   194   222   221   227   212  ...   0   0   \n",
            "2  2700300  2140  2054  2052  2098  2210  2241  2123  2023  2071  ...  12  16   \n",
            "3  2700409   508   508   544   520   586   587   535   445   511  ...   4   2   \n",
            "4  2700508   175   161   164   159   177   179   142   132   149  ...   1   1   \n",
            "\n",
            "   93  94  95  96  97  98  99  100  \n",
            "0   3   1   1   1   0   1   0    5  \n",
            "1   1   3   1   0   0   0   0    0  \n",
            "2   7   9   7   8   9   4   2   13  \n",
            "3   0   3   2   1   2   1   0    6  \n",
            "4   2   1   0   0   0   0   0    1  \n",
            "\n",
            "[5 rows x 102 columns]\n",
            "el dataframe original de brasil contiene un total de municipios: 5485\n"
          ]
        }
      ]
    },
    {
      "cell_type": "markdown",
      "source": [
        "# ESPAÑA\n",
        "\n",
        "tenemos que extraer tabla a tabla por municipio para finalmente transformar los datos para conseeguir el mismo resultado."
      ],
      "metadata": {
        "id": "NoazZ8kx3ggF"
      }
    },
    {
      "cell_type": "markdown",
      "source": [
        "### Población por sexo, municipios y edad (año a año) - Nacional\n",
        "\n",
        "https://www.ine.es/jaxiT3/Tabla.htm?t=33575&L=0\n",
        "\n",
        "# ocupa mas de 2 gb"
      ],
      "metadata": {
        "id": "2ocWcL34Xrk9"
      }
    },
    {
      "cell_type": "code",
      "source": [
        "from google.colab import drive\n",
        "drive.mount('/content/drive')"
      ],
      "metadata": {
        "colab": {
          "base_uri": "https://localhost:8080/"
        },
        "id": "-JfF5AEF5TcJ",
        "outputId": "d2b6210e-4ca6-47fa-f75a-84210aba184e"
      },
      "execution_count": null,
      "outputs": [
        {
          "output_type": "stream",
          "name": "stdout",
          "text": [
            "Mounted at /content/drive\n"
          ]
        }
      ]
    },
    {
      "cell_type": "markdown",
      "source": [
        "### extraemos las tablas"
      ],
      "metadata": {
        "id": "PtRrTP_l8GUV"
      }
    },
    {
      "cell_type": "code",
      "source": [
        "import requests\n",
        "import pandas as pd\n",
        "\n",
        "# Código de la tabla\n",
        "table_code = \"33575\"\n",
        "url_csv = f\"https://servicios.ine.es/wstempus/csv/ES/DATOS_TABLA/{table_code}?nult=999\"\n",
        "\n",
        "response = requests.get(url_csv)\n",
        "\n",
        "if response.status_code == 200:\n",
        "    csv_data = response.content.decode('utf-8')\n",
        "\n",
        "    # Guardar el archivo CSV con un nombre adecuado\n",
        "    file_name = \"tabla_33847.csv\"\n",
        "    with open(file_name, \"w\", encoding=\"utf-8\") as f:\n",
        "        f.write(csv_data)\n",
        "    print(f\"Archivo CSV guardado como '{file_name}'\")\n",
        "else:\n",
        "    print(\"Error en la petición: ❌\", response.status_code)\n",
        "\n",
        "# Leer el CSV\n",
        "df = pd.read_csv(file_name, sep='\\t', encoding='utf-8')\n",
        "\n",
        "# Mostrar las primeras filas\n",
        "print(df.head())\n",
        "print(\"Tabla actualizada conseguida ✅\")\n",
        "\n",
        "try:\n",
        "  df.to_csv('/content/33575.csv', index=False)\n",
        "  print(\"✅ Copia de df_nuevo_filtrado_2 guardada en '/content/33575.csv'\")\n",
        "except NameError:\n",
        "  print(\"⚠️ df no está definido. No se puede guardar la copia.\")\n",
        "print(\"Se ha guardado una copia del DataFrame df.\")\n"
      ],
      "metadata": {
        "id": "VWiSIgCF4jpt"
      },
      "execution_count": null,
      "outputs": []
    },
    {
      "cell_type": "code",
      "source": [
        "!pip install polars"
      ],
      "metadata": {
        "id": "veHiDdLdF7F6"
      },
      "execution_count": null,
      "outputs": []
    },
    {
      "cell_type": "code",
      "source": [
        "import polars as pl\n",
        "\n",
        "file_path = '/content/drive/Othercomputers/Mi PC (1)/GOOGLE DRIVE/DATA PESADA/33575.csv'\n",
        "\n",
        "df = pl.read_csv(\n",
        "    file_path,\n",
        "    truncate_ragged_lines=True,  # Ignora columnas extra en filas con formato roto\n",
        "    has_header=True,             # O False si no tiene cabecera\n",
        "    separator=\"\\t\",               # <-- Importante: separador correcto\n",
        "    ignore_errors=True           # Evita que pare si hay errores de parseo\n",
        ")\n",
        "\n",
        "print(df.shape)\n",
        "print(df.head())"
      ],
      "metadata": {
        "colab": {
          "base_uri": "https://localhost:8080/"
        },
        "id": "6At7Glp9GoJT",
        "outputId": "7f9e5ec8-108c-4421-e6fe-6f6fe7385b8e"
      },
      "execution_count": null,
      "outputs": [
        {
          "output_type": "stream",
          "name": "stdout",
          "text": [
            "(49792320, 5)\n",
            "shape: (5, 5)\n",
            "┌───────┬────────────────┬──────────────────┬────────────────────┬────────────┐\n",
            "│ Sexo  ┆ Municipios     ┆ Edad (año a año) ┆ Periodo            ┆ Total      │\n",
            "│ ---   ┆ ---            ┆ ---              ┆ ---                ┆ ---        │\n",
            "│ str   ┆ str            ┆ str              ┆ str                ┆ str        │\n",
            "╞═══════╪════════════════╪══════════════════╪════════════════════╪════════════╡\n",
            "│ Total ┆ Total Nacional ┆ Todas las edades ┆ 1 de enero de 2022 ┆ 47.475.420 │\n",
            "│ Total ┆ Total Nacional ┆ Todas las edades ┆ 1 de enero de 2021 ┆ 47.385.107 │\n",
            "│ Total ┆ Total Nacional ┆ Todas las edades ┆ 1 de enero de 2020 ┆ 47.450.795 │\n",
            "│ Total ┆ Total Nacional ┆ Todas las edades ┆ 1 de enero de 2019 ┆ 47.026.208 │\n",
            "│ Total ┆ Total Nacional ┆ Todas las edades ┆ 1 de enero de 2018 ┆ 46.722.980 │\n",
            "└───────┴────────────────┴──────────────────┴────────────────────┴────────────┘\n"
          ]
        }
      ]
    },
    {
      "cell_type": "markdown",
      "source": [
        "\n",
        "| **Columna Original**       | **Nueva Columna(s)**             | **Transformación**                                                                 |\n",
        "|---------------------------|----------------------------------|-------------------------------------------------------------------------------------|\n",
        "| `Sexo`                    | `sexo`                           | Renombrar a minúsculas. Filtrar solo `'Hombres'` y `'Mujeres'`. Excluir `'Total'`. |\n",
        "| `Municipios`              | `municipio_name`                 | Renombrar. No hay código, así que solo nos quedamos con el nombre.                 |\n",
        "| `Edad (año a año)`        | `edad`                           | Renombrar. Excluir `'Todas las edades'`. Mantener solo edades numéricas.           |\n",
        "| `Periodo`                 | `periodo`                        | Renombrar. Extraer solo el año.                                                    |\n",
        "| `Total`                   | `total`                          | Renombrar. Convertir a tipo numérico eliminando separadores de miles.              |\n",
        "\n"
      ],
      "metadata": {
        "id": "cAEUEW0DH1lo"
      }
    },
    {
      "cell_type": "code",
      "source": [
        "# valores vacion en TOTAL\n",
        "\n",
        "df.filter(pl.col(\"Total\").cast(str).str.strip_chars() == \"\").shape\n"
      ],
      "metadata": {
        "colab": {
          "base_uri": "https://localhost:8080/"
        },
        "id": "4JJLLSixSWgP",
        "outputId": "fef9c99c-43dc-48a2-d45b-862009208ad2"
      },
      "execution_count": null,
      "outputs": [
        {
          "output_type": "execute_result",
          "data": {
            "text/plain": [
              "(101898, 5)"
            ]
          },
          "metadata": {},
          "execution_count": 14
        }
      ]
    },
    {
      "cell_type": "code",
      "source": [
        "# Convertir columna 'Total' a float quitando puntos, controlando valores vacíos\n",
        "df_copia = df.clone()\n",
        "\n",
        "df_copia = df_copia.with_columns([\n",
        "    pl.col(\"Total\")\n",
        "      .cast(str)\n",
        "      .str.strip_chars()\n",
        "      .str.replace_all(r\"\\.\", \"\")\n",
        "      .map_elements(lambda x: None if x == \"\" else x, return_dtype=pl.Utf8)\n",
        "      .cast(pl.Float64)\n",
        "])\n"
      ],
      "metadata": {
        "id": "xQvc5iEaMSKo"
      },
      "execution_count": null,
      "outputs": []
    },
    {
      "cell_type": "code",
      "source": [
        "def print_unique_values_and_len(df):\n",
        "    \"\"\"Imprime los valores únicos de cada columna en un DataFrame de Polars y su longitud.\"\"\"\n",
        "    for column in df_copia.columns:\n",
        "        unique_values = df_copia.select(column).unique().to_series()\n",
        "        nan_count = df_copia.select(pl.col(column).is_null().sum()).item()\n",
        "        dtype = df_copia.schema[column]\n",
        "\n",
        "        print(f\"Valores únicos de la columna '{column}':\")\n",
        "        print(unique_values)\n",
        "        print(f\"Longitud de valores únicos: {len(unique_values)}\")\n",
        "        print(f\"Número de NaN: {nan_count}\")\n",
        "        print(f\"Tipo de dato de la columna: {dtype}\")\n",
        "        print()\n",
        "print_unique_values_and_len(df_copia)\n"
      ],
      "metadata": {
        "colab": {
          "base_uri": "https://localhost:8080/"
        },
        "id": "V8Qhn7k3jkWq",
        "outputId": "b95cc413-423c-4355-bf5f-b65f30ad4115"
      },
      "execution_count": null,
      "outputs": [
        {
          "output_type": "stream",
          "name": "stdout",
          "text": [
            "Valores únicos de la columna 'Sexo':\n",
            "shape: (3,)\n",
            "Series: 'Sexo' [str]\n",
            "[\n",
            "\t\"Hombres\"\n",
            "\t\"Mujeres\"\n",
            "\t\"Total\"\n",
            "]\n",
            "Longitud de valores únicos: 3\n",
            "Número de NaN: 0\n",
            "Tipo de dato de la columna: String\n",
            "\n",
            "Valores únicos de la columna 'Municipios':\n",
            "shape: (8_136,)\n",
            "Series: 'Municipios' [str]\n",
            "[\n",
            "\t\"26173 Villarroya\"\n",
            "\t\"13043 Fuenllana\"\n",
            "\t\"03901 Poblets, els\"\n",
            "\t\"43118 Pratdip\"\n",
            "\t\"04021 Bayarque\"\n",
            "\t…\n",
            "\t\"44228 Torremocha de Jiloca\"\n",
            "\t\"19076 Castellar de la Muela\"\n",
            "\t\"24101 Murias de Paredes\"\n",
            "\t\"34151 Respenda de la Peña\"\n",
            "\t\"40229 Villaverde de Montejo\"\n",
            "]\n",
            "Longitud de valores únicos: 8136\n",
            "Número de NaN: 0\n",
            "Tipo de dato de la columna: String\n",
            "\n",
            "Valores únicos de la columna 'Edad (año a año)':\n",
            "shape: (102,)\n",
            "Series: 'Edad (año a año)' [str]\n",
            "[\n",
            "\t\"1 año\"\n",
            "\t\"30 años\"\n",
            "\t\"24 años\"\n",
            "\t\"84 años\"\n",
            "\t\"12 años\"\n",
            "\t…\n",
            "\t\"51 años\"\n",
            "\t\"78 años\"\n",
            "\t\"86 años\"\n",
            "\t\"82 años\"\n",
            "\t\"94 años\"\n",
            "]\n",
            "Longitud de valores únicos: 102\n",
            "Número de NaN: 0\n",
            "Tipo de dato de la columna: String\n",
            "\n",
            "Valores únicos de la columna 'Periodo':\n",
            "shape: (20,)\n",
            "Series: 'Periodo' [str]\n",
            "[\n",
            "\t\"1 de enero de 2003\"\n",
            "\t\"1 de enero de 2007\"\n",
            "\t\"1 de enero de 2022\"\n",
            "\t\"1 de enero de 2004\"\n",
            "\t\"1 de enero de 2018\"\n",
            "\t…\n",
            "\t\"1 de enero de 2015\"\n",
            "\t\"1 de enero de 2011\"\n",
            "\t\"1 de enero de 2021\"\n",
            "\t\"1 de enero de 2013\"\n",
            "\t\"1 de enero de 2012\"\n",
            "]\n",
            "Longitud de valores únicos: 20\n",
            "Número de NaN: 0\n",
            "Tipo de dato de la columna: String\n",
            "\n",
            "Valores únicos de la columna 'Total':\n",
            "shape: (39_149,)\n",
            "Series: 'Total' [f64]\n",
            "[\n",
            "\t131725.0\n",
            "\t10803.0\n",
            "\t16905.0\n",
            "\t134515.0\n",
            "\t28763.0\n",
            "\t…\n",
            "\t42298.0\n",
            "\t32786.0\n",
            "\t13222.0\n",
            "\t127884.0\n",
            "\t5241.0\n",
            "]\n",
            "Longitud de valores únicos: 39149\n",
            "Número de NaN: 101898\n",
            "Tipo de dato de la columna: Float64\n",
            "\n"
          ]
        }
      ]
    },
    {
      "cell_type": "markdown",
      "source": [
        "### plan de preprocesamiento."
      ],
      "metadata": {
        "id": "4k6pd6vLMyXK"
      }
    },
    {
      "cell_type": "markdown",
      "source": [
        "\n",
        "| **Columna Original**       | **Nueva Columna(s)**             | **Transformación**                                                                 |\n",
        "|---------------------------|----------------------------------|-------------------------------------------------------------------------------------|\n",
        "| `Sexo`                    | `sexo`                           | Renombrar a minúsculas. Filtrar solo `'Hombres'` y `'Mujeres'`. Excluir `'Total'`. |\n",
        "| `Municipios`              | `municipio_name`, `municipio_code` | Separar código y nombre si están en formato `\"XXXXX Nombre\"`.                      |\n",
        "| `Edad (año a año)`        | `edad`                           | Renombrar. Excluir `'Todas las edades'`. Extraer solo el número.                   |\n",
        "| `Periodo`                 | `periodo`                        | Renombrar. Extraer solo el año.                                                    |\n",
        "| `Total`                   | `total`                          | Renombrar. Convertir a numérico (`float`), eliminando puntos como separadores.     |\n",
        "\n",
        "🔎 **Adiciones importantes**:\n",
        "- En `Municipios`, ahora que sabemos que están en formato `\"Código Nombre\"` como `\"08080 Fígols\"`, conviene separar el código (`municipio_code`) y el nombre (`municipio_name`).\n",
        "- `Total` incluye puntos como separador de miles, así que necesitamos convertir correctamente a `float` tras eliminar los puntos.\n",
        "\n"
      ],
      "metadata": {
        "id": "nctNoqQnjSWu"
      }
    },
    {
      "cell_type": "markdown",
      "source": [
        "### filtramos"
      ],
      "metadata": {
        "id": "fhbBV_c7QD0N"
      }
    },
    {
      "cell_type": "code",
      "source": [
        "df_copia.filter(~pl.col(\"Municipios\").str.contains(r\"^\\d{5}\\s\"))\n"
      ],
      "metadata": {
        "colab": {
          "base_uri": "https://localhost:8080/",
          "height": 443
        },
        "id": "pYimPWlUPnlE",
        "outputId": "e05691e4-b687-48f3-a6fe-8a25087651c3"
      },
      "execution_count": null,
      "outputs": [
        {
          "output_type": "execute_result",
          "data": {
            "text/plain": [
              "shape: (6_120, 5)\n",
              "┌─────────┬────────────────┬──────────────────┬────────────────────┬─────────────┐\n",
              "│ Sexo    ┆ Municipios     ┆ Edad (año a año) ┆ Periodo            ┆ Total       │\n",
              "│ ---     ┆ ---            ┆ ---              ┆ ---                ┆ ---         │\n",
              "│ str     ┆ str            ┆ str              ┆ str                ┆ f64         │\n",
              "╞═════════╪════════════════╪══════════════════╪════════════════════╪═════════════╡\n",
              "│ Total   ┆ Total Nacional ┆ Todas las edades ┆ 1 de enero de 2022 ┆ 4.747542e7  │\n",
              "│ Total   ┆ Total Nacional ┆ Todas las edades ┆ 1 de enero de 2021 ┆ 4.7385107e7 │\n",
              "│ Total   ┆ Total Nacional ┆ Todas las edades ┆ 1 de enero de 2020 ┆ 4.7450795e7 │\n",
              "│ Total   ┆ Total Nacional ┆ Todas las edades ┆ 1 de enero de 2019 ┆ 4.7026208e7 │\n",
              "│ Total   ┆ Total Nacional ┆ Todas las edades ┆ 1 de enero de 2018 ┆ 4.672298e7  │\n",
              "│ …       ┆ …              ┆ …                ┆ …                  ┆ …           │\n",
              "│ Mujeres ┆ Total Nacional ┆ 100 y más años   ┆ 1 de enero de 2007 ┆ 6312.0      │\n",
              "│ Mujeres ┆ Total Nacional ┆ 100 y más años   ┆ 1 de enero de 2006 ┆ 7586.0      │\n",
              "│ Mujeres ┆ Total Nacional ┆ 100 y más años   ┆ 1 de enero de 2005 ┆ 6775.0      │\n",
              "│ Mujeres ┆ Total Nacional ┆ 100 y más años   ┆ 1 de enero de 2004 ┆ 6590.0      │\n",
              "│ Mujeres ┆ Total Nacional ┆ 100 y más años   ┆ 1 de enero de 2003 ┆ 6434.0      │\n",
              "└─────────┴────────────────┴──────────────────┴────────────────────┴─────────────┘"
            ],
            "text/html": [
              "<div><style>\n",
              ".dataframe > thead > tr,\n",
              ".dataframe > tbody > tr {\n",
              "  text-align: right;\n",
              "  white-space: pre-wrap;\n",
              "}\n",
              "</style>\n",
              "<small>shape: (6_120, 5)</small><table border=\"1\" class=\"dataframe\"><thead><tr><th>Sexo</th><th>Municipios</th><th>Edad (año a año)</th><th>Periodo</th><th>Total</th></tr><tr><td>str</td><td>str</td><td>str</td><td>str</td><td>f64</td></tr></thead><tbody><tr><td>&quot;Total&quot;</td><td>&quot;Total Nacional&quot;</td><td>&quot;Todas las edades&quot;</td><td>&quot;1 de enero de 2022&quot;</td><td>4.747542e7</td></tr><tr><td>&quot;Total&quot;</td><td>&quot;Total Nacional&quot;</td><td>&quot;Todas las edades&quot;</td><td>&quot;1 de enero de 2021&quot;</td><td>4.7385107e7</td></tr><tr><td>&quot;Total&quot;</td><td>&quot;Total Nacional&quot;</td><td>&quot;Todas las edades&quot;</td><td>&quot;1 de enero de 2020&quot;</td><td>4.7450795e7</td></tr><tr><td>&quot;Total&quot;</td><td>&quot;Total Nacional&quot;</td><td>&quot;Todas las edades&quot;</td><td>&quot;1 de enero de 2019&quot;</td><td>4.7026208e7</td></tr><tr><td>&quot;Total&quot;</td><td>&quot;Total Nacional&quot;</td><td>&quot;Todas las edades&quot;</td><td>&quot;1 de enero de 2018&quot;</td><td>4.672298e7</td></tr><tr><td>&hellip;</td><td>&hellip;</td><td>&hellip;</td><td>&hellip;</td><td>&hellip;</td></tr><tr><td>&quot;Mujeres&quot;</td><td>&quot;Total Nacional&quot;</td><td>&quot;100 y más años&quot;</td><td>&quot;1 de enero de 2007&quot;</td><td>6312.0</td></tr><tr><td>&quot;Mujeres&quot;</td><td>&quot;Total Nacional&quot;</td><td>&quot;100 y más años&quot;</td><td>&quot;1 de enero de 2006&quot;</td><td>7586.0</td></tr><tr><td>&quot;Mujeres&quot;</td><td>&quot;Total Nacional&quot;</td><td>&quot;100 y más años&quot;</td><td>&quot;1 de enero de 2005&quot;</td><td>6775.0</td></tr><tr><td>&quot;Mujeres&quot;</td><td>&quot;Total Nacional&quot;</td><td>&quot;100 y más años&quot;</td><td>&quot;1 de enero de 2004&quot;</td><td>6590.0</td></tr><tr><td>&quot;Mujeres&quot;</td><td>&quot;Total Nacional&quot;</td><td>&quot;100 y más años&quot;</td><td>&quot;1 de enero de 2003&quot;</td><td>6434.0</td></tr></tbody></table></div>"
            ]
          },
          "metadata": {},
          "execution_count": 6
        }
      ]
    },
    {
      "cell_type": "markdown",
      "source": [
        "### eliminamos si en Municipios = Total Nacional"
      ],
      "metadata": {
        "id": "4BSZx78XQGnR"
      }
    },
    {
      "cell_type": "code",
      "source": [
        "df_copia = df_copia.filter(pl.col(\"Municipios\") != \"Total Nacional\")\n",
        "df_copia.filter(~pl.col(\"Municipios\").str.contains(r\"^\\d{5}\\s\"))\n"
      ],
      "metadata": {
        "colab": {
          "base_uri": "https://localhost:8080/",
          "height": 98
        },
        "id": "xRppmVeaQFus",
        "outputId": "896bc0bf-312c-4ae8-887e-2e753a076abf"
      },
      "execution_count": null,
      "outputs": [
        {
          "output_type": "execute_result",
          "data": {
            "text/plain": [
              "shape: (0, 5)\n",
              "┌──────┬────────────┬──────────────────┬─────────┬───────┐\n",
              "│ Sexo ┆ Municipios ┆ Edad (año a año) ┆ Periodo ┆ Total │\n",
              "│ ---  ┆ ---        ┆ ---              ┆ ---     ┆ ---   │\n",
              "│ str  ┆ str        ┆ str              ┆ str     ┆ f64   │\n",
              "╞══════╪════════════╪══════════════════╪═════════╪═══════╡\n",
              "└──────┴────────────┴──────────────────┴─────────┴───────┘"
            ],
            "text/html": [
              "<div><style>\n",
              ".dataframe > thead > tr,\n",
              ".dataframe > tbody > tr {\n",
              "  text-align: right;\n",
              "  white-space: pre-wrap;\n",
              "}\n",
              "</style>\n",
              "<small>shape: (0, 5)</small><table border=\"1\" class=\"dataframe\"><thead><tr><th>Sexo</th><th>Municipios</th><th>Edad (año a año)</th><th>Periodo</th><th>Total</th></tr><tr><td>str</td><td>str</td><td>str</td><td>str</td><td>f64</td></tr></thead><tbody></tbody></table></div>"
            ]
          },
          "metadata": {},
          "execution_count": 7
        }
      ]
    },
    {
      "cell_type": "code",
      "source": [
        "df_copia_copia = df_copia.clone()\n",
        "\n",
        "\n",
        "# Renombrar columnas para trabajar\n",
        "df_copia_copia = df_copia_copia.rename({\n",
        "    \"Sexo\": \"sexo\",\n",
        "    \"Municipios\": \"municipios\",\n",
        "    \"Edad (año a año)\": \"edad\",\n",
        "    \"Periodo\": \"periodo\",\n",
        "    \"Total\": \"total\"\n",
        "})\n",
        "\n",
        "# Filtrar solo 'Hombres' y 'Mujeres'\n",
        "df_copia_copia = df_copia_copia.filter(pl.col(\"sexo\").is_in([\"Hombres\", \"Mujeres\"]))\n",
        "\n",
        "# Excluir 'Todas las edades'\n",
        "df_copia_copia = df_copia_copia.filter(pl.col(\"edad\") != \"Todas las edades\")\n",
        "\n",
        "# Extraer año del periodo (asumimos que es tipo texto como '2022')\n",
        "df_copia_copia = df_copia_copia.with_columns([\n",
        "    pl.col(\"periodo\").cast(str).str.extract(r\"(\\d{4})\").alias(\"periodo\")\n",
        "])\n",
        "\n",
        "# Extraer número de edad (si viene como \"35 años\", por ejemplo)\n",
        "df_copia_copia = df_copia_copia.with_columns([\n",
        "    pl.col(\"edad\").str.extract(r\"(\\d+)\").cast(pl.Int64).alias(\"edad\")\n",
        "])\n",
        "\n",
        "# Separar código y nombre del municipio\n",
        "df_copia_copia = df_copia_copia.with_columns([\n",
        "    pl.col(\"municipios\").str.extract(r\"^(\\d{5})\").alias(\"municipio_code\"),\n",
        "    pl.col(\"municipios\").str.extract(r\"\\d{5}\\s+(.*)\").alias(\"municipio_name\")\n",
        "])\n",
        "\n",
        "# Luego convertimos a float\n",
        "df_copia_copia = df_copia_copia.with_columns([\n",
        "    pl.col(\"total\").cast(pl.Float64)\n",
        "])"
      ],
      "metadata": {
        "collapsed": true,
        "id": "_nhqIqTeI0QO"
      },
      "execution_count": null,
      "outputs": []
    },
    {
      "cell_type": "code",
      "source": [
        "# Seleccionar solo las columnas finales\n",
        "df_final = df_copia_copia.select([\n",
        "    \"sexo\", \"municipio_code\", \"municipio_name\", \"edad\", \"periodo\", \"total\"\n",
        "])\n"
      ],
      "metadata": {
        "id": "bMVLRFjLKUoD"
      },
      "execution_count": null,
      "outputs": []
    },
    {
      "cell_type": "code",
      "source": [
        "print(df_final.shape)\n",
        "print(df_final.head())"
      ],
      "metadata": {
        "colab": {
          "base_uri": "https://localhost:8080/"
        },
        "id": "Tdf1KFL-JN6Z",
        "outputId": "a8c41f0e-7ba0-47d5-d6e9-0c0a670cc4df"
      },
      "execution_count": null,
      "outputs": [
        {
          "output_type": "stream",
          "name": "stdout",
          "text": [
            "(32865400, 6)\n",
            "shape: (5, 6)\n",
            "┌─────────┬────────────────┬────────────────┬──────┬─────────┬───────┐\n",
            "│ sexo    ┆ municipio_code ┆ municipio_name ┆ edad ┆ periodo ┆ total │\n",
            "│ ---     ┆ ---            ┆ ---            ┆ ---  ┆ ---     ┆ ---   │\n",
            "│ str     ┆ str            ┆ str            ┆ i64  ┆ str     ┆ f64   │\n",
            "╞═════════╪════════════════╪════════════════╪══════╪═════════╪═══════╡\n",
            "│ Hombres ┆ 44001          ┆ Ababuj         ┆ 0    ┆ 2022    ┆ 0.0   │\n",
            "│ Hombres ┆ 44001          ┆ Ababuj         ┆ 0    ┆ 2021    ┆ 0.0   │\n",
            "│ Hombres ┆ 44001          ┆ Ababuj         ┆ 0    ┆ 2020    ┆ 0.0   │\n",
            "│ Hombres ┆ 44001          ┆ Ababuj         ┆ 0    ┆ 2019    ┆ 0.0   │\n",
            "│ Hombres ┆ 44001          ┆ Ababuj         ┆ 0    ┆ 2018    ┆ 0.0   │\n",
            "└─────────┴────────────────┴────────────────┴──────┴─────────┴───────┘\n"
          ]
        }
      ]
    },
    {
      "cell_type": "code",
      "source": [
        "def print_unique_values_and_len(df):\n",
        "    \"\"\"Imprime los valores únicos de cada columna en un DataFrame de Polars y su longitud.\"\"\"\n",
        "    for column in df_final.columns:\n",
        "        unique_values = df_final.select(column).unique().to_series()\n",
        "        nan_count = df_final.select(pl.col(column).is_null().sum()).item()\n",
        "        dtype = df_final.schema[column]\n",
        "\n",
        "        print(f\"Valores únicos de la columna '{column}':\")\n",
        "        print(unique_values)\n",
        "        print(f\"Longitud de valores únicos: {len(unique_values)}\")\n",
        "        print(f\"Número de NaN: {nan_count}\")\n",
        "        print(f\"Tipo de dato de la columna: {dtype}\")\n",
        "        print()\n",
        "print_unique_values_and_len(df)"
      ],
      "metadata": {
        "id": "lT0mt_qpJRuu",
        "colab": {
          "base_uri": "https://localhost:8080/"
        },
        "outputId": "200f9384-fa7c-448b-eac6-1bd368595997"
      },
      "execution_count": null,
      "outputs": [
        {
          "output_type": "stream",
          "name": "stdout",
          "text": [
            "Valores únicos de la columna 'sexo':\n",
            "shape: (2,)\n",
            "Series: 'sexo' [str]\n",
            "[\n",
            "\t\"Mujeres\"\n",
            "\t\"Hombres\"\n",
            "]\n",
            "Longitud de valores únicos: 2\n",
            "Número de NaN: 0\n",
            "Tipo de dato de la columna: String\n",
            "\n",
            "Valores únicos de la columna 'municipio_code':\n",
            "shape: (8_135,)\n",
            "Series: 'municipio_code' [str]\n",
            "[\n",
            "\t\"10027\"\n",
            "\t\"05053\"\n",
            "\t\"45053\"\n",
            "\t\"50280\"\n",
            "\t\"31134\"\n",
            "\t…\n",
            "\t\"14043\"\n",
            "\t\"19321\"\n",
            "\t\"06066\"\n",
            "\t\"29004\"\n",
            "\t\"03084\"\n",
            "]\n",
            "Longitud de valores únicos: 8135\n",
            "Número de NaN: 0\n",
            "Tipo de dato de la columna: String\n",
            "\n",
            "Valores únicos de la columna 'municipio_name':\n",
            "shape: (8_118,)\n",
            "Series: 'municipio_name' [str]\n",
            "[\n",
            "\t\"Palazuelos de Eresma\"\n",
            "\t\"Alforque\"\n",
            "\t\"Villarrubio\"\n",
            "\t\"Tamariz de Campos\"\n",
            "\t\"Bergara\"\n",
            "\t…\n",
            "\t\"Mugardos\"\n",
            "\t\"Miguel Esteban\"\n",
            "\t\"Zafrilla\"\n",
            "\t\"Valdenebro\"\n",
            "\t\"Villarreal de Huerva\"\n",
            "]\n",
            "Longitud de valores únicos: 8118\n",
            "Número de NaN: 0\n",
            "Tipo de dato de la columna: String\n",
            "\n",
            "Valores únicos de la columna 'edad':\n",
            "shape: (101,)\n",
            "Series: 'edad' [i64]\n",
            "[\n",
            "\t24\n",
            "\t13\n",
            "\t58\n",
            "\t51\n",
            "\t90\n",
            "\t…\n",
            "\t20\n",
            "\t98\n",
            "\t95\n",
            "\t23\n",
            "\t56\n",
            "]\n",
            "Longitud de valores únicos: 101\n",
            "Número de NaN: 0\n",
            "Tipo de dato de la columna: Int64\n",
            "\n",
            "Valores únicos de la columna 'periodo':\n",
            "shape: (20,)\n",
            "Series: 'periodo' [str]\n",
            "[\n",
            "\t\"2008\"\n",
            "\t\"2003\"\n",
            "\t\"2010\"\n",
            "\t\"2016\"\n",
            "\t\"2004\"\n",
            "\t…\n",
            "\t\"2012\"\n",
            "\t\"2009\"\n",
            "\t\"2019\"\n",
            "\t\"2011\"\n",
            "\t\"2005\"\n",
            "]\n",
            "Longitud de valores únicos: 20\n",
            "Número de NaN: 0\n",
            "Tipo de dato de la columna: String\n",
            "\n",
            "Valores únicos de la columna 'total':\n",
            "shape: (11_545,)\n",
            "Series: 'total' [f64]\n",
            "[\n",
            "\t2235.0\n",
            "\t1531.0\n",
            "\t8710.0\n",
            "\t404.0\n",
            "\t3735.0\n",
            "\t…\n",
            "\t1022.0\n",
            "\t2907.0\n",
            "\t1800.0\n",
            "\t6473.0\n",
            "\t25748.0\n",
            "]\n",
            "Longitud de valores únicos: 11545\n",
            "Número de NaN: 67266\n",
            "Tipo de dato de la columna: Float64\n",
            "\n"
          ]
        }
      ]
    },
    {
      "cell_type": "code",
      "source": [
        "print(df_final.shape)\n",
        "print(df_final.head())"
      ],
      "metadata": {
        "colab": {
          "base_uri": "https://localhost:8080/"
        },
        "id": "XgfLuQ1JSg0v",
        "outputId": "e624af3a-7e34-41de-fabd-453dc3f2c454"
      },
      "execution_count": null,
      "outputs": [
        {
          "output_type": "stream",
          "name": "stdout",
          "text": [
            "(32865400, 6)\n",
            "shape: (5, 6)\n",
            "┌─────────┬────────────────┬────────────────┬──────┬─────────┬───────┐\n",
            "│ sexo    ┆ municipio_code ┆ municipio_name ┆ edad ┆ periodo ┆ total │\n",
            "│ ---     ┆ ---            ┆ ---            ┆ ---  ┆ ---     ┆ ---   │\n",
            "│ str     ┆ str            ┆ str            ┆ i64  ┆ str     ┆ f64   │\n",
            "╞═════════╪════════════════╪════════════════╪══════╪═════════╪═══════╡\n",
            "│ Hombres ┆ 44001          ┆ Ababuj         ┆ 0    ┆ 2022    ┆ 0.0   │\n",
            "│ Hombres ┆ 44001          ┆ Ababuj         ┆ 0    ┆ 2021    ┆ 0.0   │\n",
            "│ Hombres ┆ 44001          ┆ Ababuj         ┆ 0    ┆ 2020    ┆ 0.0   │\n",
            "│ Hombres ┆ 44001          ┆ Ababuj         ┆ 0    ┆ 2019    ┆ 0.0   │\n",
            "│ Hombres ┆ 44001          ┆ Ababuj         ┆ 0    ┆ 2018    ┆ 0.0   │\n",
            "└─────────┴────────────────┴────────────────┴──────┴─────────┴───────┘\n"
          ]
        }
      ]
    },
    {
      "cell_type": "code",
      "source": [
        "df_final = df_final.with_columns([\n",
        "    pl.col(\"total\")\n",
        "      .cast(str)\n",
        "      .str.strip_chars()\n",
        "      .str.replace_all(r\"\\.\", \"\")\n",
        "      .map_elements(lambda x: x if x.isdigit() else None, return_dtype=pl.Utf8)\n",
        "      .cast(pl.Float64)\n",
        "])\n"
      ],
      "metadata": {
        "id": "j2Ip0ul8Sn2j"
      },
      "execution_count": null,
      "outputs": []
    },
    {
      "cell_type": "markdown",
      "source": [
        "### guardamos copia de df_final"
      ],
      "metadata": {
        "id": "KjHrns6OV11v"
      }
    },
    {
      "cell_type": "code",
      "source": [
        "# prompt: guardamos df_final en google drive\n",
        "\n",
        "try:\n",
        "  df_final.write_csv('/content/drive/Othercomputers/Mi PC (1)/GOOGLE DRIVE/DATA PESADA/df_final.csv')\n",
        "  print(\"✅ DataFrame df_final guardado en Google Drive.\")\n",
        "except NameError:\n",
        "  print(\"⚠️ df_final no está definido. No se puede guardar en Google Drive.\")"
      ],
      "metadata": {
        "colab": {
          "base_uri": "https://localhost:8080/"
        },
        "id": "WrY_7-eRTPXF",
        "outputId": "d55dfc45-e33c-40e7-8792-36107cb2e26b"
      },
      "execution_count": null,
      "outputs": [
        {
          "output_type": "stream",
          "name": "stdout",
          "text": [
            "✅ DataFrame df_final guardado en Google Drive.\n"
          ]
        }
      ]
    },
    {
      "cell_type": "code",
      "source": [
        "import polars as pl\n",
        "\n",
        "# file_path = '/content/drive/Othercomputers/Mi PC (1)/GOOGLE DRIVE/DATA PESADA/df_final.csv'\n",
        "\n",
        "# df_final = pl.read_csv(file_path)\n"
      ],
      "metadata": {
        "id": "3RvJ7LEjW5zQ"
      },
      "execution_count": null,
      "outputs": []
    },
    {
      "cell_type": "code",
      "source": [
        "df_final.select([\n",
        "    pl.col(\"total\").null_count().alias(\"NaNs en total\"),\n",
        "    pl.col(\"total\").min().alias(\"total_min\"),\n",
        "    pl.col(\"total\").max().alias(\"total_max\"),\n",
        "    pl.col(\"total\").mean().alias(\"total_media\")\n",
        "])\n",
        "# nan antes 67266 --> tenemos los mismos"
      ],
      "metadata": {
        "colab": {
          "base_uri": "https://localhost:8080/",
          "height": 129
        },
        "id": "jcE2eC8JUMpC",
        "outputId": "931bc2cc-e287-466b-b96f-3a470db66cdc"
      },
      "execution_count": null,
      "outputs": [
        {
          "output_type": "execute_result",
          "data": {
            "text/plain": [
              "shape: (1, 4)\n",
              "┌───────────────┬───────────┬───────────┬─────────────┐\n",
              "│ NaNs en total ┆ total_min ┆ total_max ┆ total_media │\n",
              "│ ---           ┆ ---       ┆ ---       ┆ ---         │\n",
              "│ u32           ┆ f64       ┆ f64       ┆ f64         │\n",
              "╞═══════════════╪═══════════╪═══════════╪═════════════╡\n",
              "│ 67266         ┆ 0.0       ┆ 313030.0  ┆ 281.732067  │\n",
              "└───────────────┴───────────┴───────────┴─────────────┘"
            ],
            "text/html": [
              "<div><style>\n",
              ".dataframe > thead > tr,\n",
              ".dataframe > tbody > tr {\n",
              "  text-align: right;\n",
              "  white-space: pre-wrap;\n",
              "}\n",
              "</style>\n",
              "<small>shape: (1, 4)</small><table border=\"1\" class=\"dataframe\"><thead><tr><th>NaNs en total</th><th>total_min</th><th>total_max</th><th>total_media</th></tr><tr><td>u32</td><td>f64</td><td>f64</td><td>f64</td></tr></thead><tbody><tr><td>67266</td><td>0.0</td><td>313030.0</td><td>281.732067</td></tr></tbody></table></div>"
            ]
          },
          "metadata": {},
          "execution_count": 7
        }
      ]
    },
    {
      "cell_type": "code",
      "source": [
        "df_final.select(\n",
        "    pl.col(\"total\")\n",
        "    .cast(str)\n",
        "    .str.strip_chars()\n",
        "    .str.replace_all(r\"\\.\", \"\")\n",
        "    .unique()\n",
        "    .sort()\n",
        ")\n"
      ],
      "metadata": {
        "colab": {
          "base_uri": "https://localhost:8080/",
          "height": 443
        },
        "id": "3RDy9HCyUoKJ",
        "outputId": "e701ed62-1907-46e4-9b02-7752b9449bce"
      },
      "execution_count": null,
      "outputs": [
        {
          "output_type": "execute_result",
          "data": {
            "text/plain": [
              "shape: (11_545, 1)\n",
              "┌────────┐\n",
              "│ total  │\n",
              "│ ---    │\n",
              "│ str    │\n",
              "╞════════╡\n",
              "│ null   │\n",
              "│ 00     │\n",
              "│ 100    │\n",
              "│ 1000   │\n",
              "│ 10000  │\n",
              "│ …      │\n",
              "│ 999100 │\n",
              "│ 999200 │\n",
              "│ 999500 │\n",
              "│ 999700 │\n",
              "│ 999900 │\n",
              "└────────┘"
            ],
            "text/html": [
              "<div><style>\n",
              ".dataframe > thead > tr,\n",
              ".dataframe > tbody > tr {\n",
              "  text-align: right;\n",
              "  white-space: pre-wrap;\n",
              "}\n",
              "</style>\n",
              "<small>shape: (11_545, 1)</small><table border=\"1\" class=\"dataframe\"><thead><tr><th>total</th></tr><tr><td>str</td></tr></thead><tbody><tr><td>null</td></tr><tr><td>&quot;00&quot;</td></tr><tr><td>&quot;100&quot;</td></tr><tr><td>&quot;1000&quot;</td></tr><tr><td>&quot;10000&quot;</td></tr><tr><td>&hellip;</td></tr><tr><td>&quot;999100&quot;</td></tr><tr><td>&quot;999200&quot;</td></tr><tr><td>&quot;999500&quot;</td></tr><tr><td>&quot;999700&quot;</td></tr><tr><td>&quot;999900&quot;</td></tr></tbody></table></div>"
            ]
          },
          "metadata": {},
          "execution_count": 8
        }
      ]
    },
    {
      "cell_type": "markdown",
      "source": [
        "### tratamos null"
      ],
      "metadata": {
        "id": "1r-Y5MapVEAU"
      }
    },
    {
      "cell_type": "code",
      "source": [
        "df_final = df_final.with_columns([\n",
        "    pl.col(\"total\")\n",
        "      .cast(str)\n",
        "      .str.strip_chars()\n",
        "      .str.replace_all(r\"\\.\", \"\")\n",
        "      .map_elements(lambda x: None if x in [\"\", \"null\"] else x, return_dtype=pl.Utf8)\n",
        "      .cast(pl.Float64)\n",
        "])\n"
      ],
      "metadata": {
        "id": "WoATUXxbVDID"
      },
      "execution_count": null,
      "outputs": []
    },
    {
      "cell_type": "code",
      "source": [
        "\n",
        "print(df_final.select(pl.col(\"total\").null_count()).item())\n"
      ],
      "metadata": {
        "colab": {
          "base_uri": "https://localhost:8080/"
        },
        "id": "EhmmP37RT6qX",
        "outputId": "edea7789-b85e-4be1-84da-ba6a6f74a456"
      },
      "execution_count": null,
      "outputs": [
        {
          "output_type": "stream",
          "name": "stdout",
          "text": [
            "67266\n"
          ]
        }
      ]
    },
    {
      "cell_type": "code",
      "source": [
        "df_final.select(\n",
        "    pl.col(\"total\")\n",
        "    .cast(str)\n",
        "    .str.strip_chars()\n",
        "    .str.replace_all(r\"\\.\", \"\")\n",
        "    .unique()\n",
        "    .sort()\n",
        ")\n"
      ],
      "metadata": {
        "colab": {
          "base_uri": "https://localhost:8080/",
          "height": 443
        },
        "id": "ibi0t4YKX6kg",
        "outputId": "577d63fa-e47c-416e-cca3-87f116ad583c"
      },
      "execution_count": null,
      "outputs": [
        {
          "output_type": "execute_result",
          "data": {
            "text/plain": [
              "shape: (11_545, 1)\n",
              "┌─────────┐\n",
              "│ total   │\n",
              "│ ---     │\n",
              "│ str     │\n",
              "╞═════════╡\n",
              "│ null    │\n",
              "│ 00      │\n",
              "│ 1000    │\n",
              "│ 10000   │\n",
              "│ 100000  │\n",
              "│ …       │\n",
              "│ 9991000 │\n",
              "│ 9992000 │\n",
              "│ 9995000 │\n",
              "│ 9997000 │\n",
              "│ 9999000 │\n",
              "└─────────┘"
            ],
            "text/html": [
              "<div><style>\n",
              ".dataframe > thead > tr,\n",
              ".dataframe > tbody > tr {\n",
              "  text-align: right;\n",
              "  white-space: pre-wrap;\n",
              "}\n",
              "</style>\n",
              "<small>shape: (11_545, 1)</small><table border=\"1\" class=\"dataframe\"><thead><tr><th>total</th></tr><tr><td>str</td></tr></thead><tbody><tr><td>null</td></tr><tr><td>&quot;00&quot;</td></tr><tr><td>&quot;1000&quot;</td></tr><tr><td>&quot;10000&quot;</td></tr><tr><td>&quot;100000&quot;</td></tr><tr><td>&hellip;</td></tr><tr><td>&quot;9991000&quot;</td></tr><tr><td>&quot;9992000&quot;</td></tr><tr><td>&quot;9995000&quot;</td></tr><tr><td>&quot;9997000&quot;</td></tr><tr><td>&quot;9999000&quot;</td></tr></tbody></table></div>"
            ]
          },
          "metadata": {},
          "execution_count": 11
        }
      ]
    },
    {
      "cell_type": "code",
      "source": [
        "df_final = df_final.with_columns([\n",
        "    pl.when(\n",
        "        (pl.col(\"total\").cast(str).str.strip_chars().str.replace_all(r\"\\.\", \"\") == \"\") |\n",
        "        (pl.col(\"total\").cast(str).str.strip_chars().str.replace_all(r\"\\.\", \"\") == \"null\")\n",
        "    )\n",
        "    .then(None)\n",
        "    .otherwise(\n",
        "        pl.col(\"total\").cast(str).str.strip_chars().str.replace_all(r\"\\.\", \"\")\n",
        "    )\n",
        "    .cast(pl.Float64)\n",
        "    .alias(\"total\")\n",
        "])\n"
      ],
      "metadata": {
        "id": "c-M8JVM6VuVD"
      },
      "execution_count": null,
      "outputs": []
    },
    {
      "cell_type": "code",
      "source": [
        "df_final.select(\n",
        "    pl.col(\"total\")\n",
        "    .cast(str)\n",
        "    .str.strip_chars()\n",
        "    .str.replace_all(r\"\\.\", \"\")\n",
        "    .unique()\n",
        "    .sort()\n",
        ")\n"
      ],
      "metadata": {
        "colab": {
          "base_uri": "https://localhost:8080/",
          "height": 443
        },
        "id": "2SQoVhkoYEkA",
        "outputId": "2bf5ed0a-c744-4cf6-c035-05916dac5f2c"
      },
      "execution_count": null,
      "outputs": [
        {
          "output_type": "execute_result",
          "data": {
            "text/plain": [
              "shape: (11_545, 1)\n",
              "┌──────────┐\n",
              "│ total    │\n",
              "│ ---      │\n",
              "│ str      │\n",
              "╞══════════╡\n",
              "│ null     │\n",
              "│ 00       │\n",
              "│ 10000    │\n",
              "│ 100000   │\n",
              "│ 1000000  │\n",
              "│ …        │\n",
              "│ 99910000 │\n",
              "│ 99920000 │\n",
              "│ 99950000 │\n",
              "│ 99970000 │\n",
              "│ 99990000 │\n",
              "└──────────┘"
            ],
            "text/html": [
              "<div><style>\n",
              ".dataframe > thead > tr,\n",
              ".dataframe > tbody > tr {\n",
              "  text-align: right;\n",
              "  white-space: pre-wrap;\n",
              "}\n",
              "</style>\n",
              "<small>shape: (11_545, 1)</small><table border=\"1\" class=\"dataframe\"><thead><tr><th>total</th></tr><tr><td>str</td></tr></thead><tbody><tr><td>null</td></tr><tr><td>&quot;00&quot;</td></tr><tr><td>&quot;10000&quot;</td></tr><tr><td>&quot;100000&quot;</td></tr><tr><td>&quot;1000000&quot;</td></tr><tr><td>&hellip;</td></tr><tr><td>&quot;99910000&quot;</td></tr><tr><td>&quot;99920000&quot;</td></tr><tr><td>&quot;99950000&quot;</td></tr><tr><td>&quot;99970000&quot;</td></tr><tr><td>&quot;99990000&quot;</td></tr></tbody></table></div>"
            ]
          },
          "metadata": {},
          "execution_count": 13
        }
      ]
    },
    {
      "cell_type": "code",
      "source": [
        "df_final.select([\n",
        "    pl.col(\"total\").is_null().sum().alias(\"nulos_reales\"),\n",
        "    pl.col(\"total\").drop_nulls().cast(str).unique().sort().alias(\"valores_validos\")\n",
        "])\n",
        "df_final.filter(pl.col(\"total\").is_null())\n"
      ],
      "metadata": {
        "colab": {
          "base_uri": "https://localhost:8080/",
          "height": 443
        },
        "id": "qoSVkwShYdDg",
        "outputId": "e54442c8-b80e-4ec4-d687-dc1691f8fd90"
      },
      "execution_count": null,
      "outputs": [
        {
          "output_type": "execute_result",
          "data": {
            "text/plain": [
              "shape: (67_266, 6)\n",
              "┌─────────┬────────────────┬─────────────────┬──────┬─────────┬───────┐\n",
              "│ sexo    ┆ municipio_code ┆ municipio_name  ┆ edad ┆ periodo ┆ total │\n",
              "│ ---     ┆ ---            ┆ ---             ┆ ---  ┆ ---     ┆ ---   │\n",
              "│ str     ┆ i64            ┆ str             ┆ i64  ┆ i64     ┆ f64   │\n",
              "╞═════════╪════════════════╪═════════════════╪══════╪═════════╪═══════╡\n",
              "│ Hombres ┆ 10903          ┆ Alagón del Río  ┆ 0    ┆ 2009    ┆ null  │\n",
              "│ Hombres ┆ 10903          ┆ Alagón del Río  ┆ 0    ┆ 2008    ┆ null  │\n",
              "│ Hombres ┆ 10903          ┆ Alagón del Río  ┆ 0    ┆ 2007    ┆ null  │\n",
              "│ Hombres ┆ 10903          ┆ Alagón del Río  ┆ 0    ┆ 2006    ┆ null  │\n",
              "│ Hombres ┆ 10903          ┆ Alagón del Río  ┆ 0    ┆ 2005    ┆ null  │\n",
              "│ …       ┆ …              ┆ …               ┆ …    ┆ …       ┆ …     │\n",
              "│ Mujeres ┆ 48915          ┆ Ziortza-Bolibar ┆ 99   ┆ 2004    ┆ null  │\n",
              "│ Mujeres ┆ 48915          ┆ Ziortza-Bolibar ┆ 99   ┆ 2003    ┆ null  │\n",
              "│ Mujeres ┆ 48915          ┆ Ziortza-Bolibar ┆ 100  ┆ 2005    ┆ null  │\n",
              "│ Mujeres ┆ 48915          ┆ Ziortza-Bolibar ┆ 100  ┆ 2004    ┆ null  │\n",
              "│ Mujeres ┆ 48915          ┆ Ziortza-Bolibar ┆ 100  ┆ 2003    ┆ null  │\n",
              "└─────────┴────────────────┴─────────────────┴──────┴─────────┴───────┘"
            ],
            "text/html": [
              "<div><style>\n",
              ".dataframe > thead > tr,\n",
              ".dataframe > tbody > tr {\n",
              "  text-align: right;\n",
              "  white-space: pre-wrap;\n",
              "}\n",
              "</style>\n",
              "<small>shape: (67_266, 6)</small><table border=\"1\" class=\"dataframe\"><thead><tr><th>sexo</th><th>municipio_code</th><th>municipio_name</th><th>edad</th><th>periodo</th><th>total</th></tr><tr><td>str</td><td>i64</td><td>str</td><td>i64</td><td>i64</td><td>f64</td></tr></thead><tbody><tr><td>&quot;Hombres&quot;</td><td>10903</td><td>&quot;Alagón del Río&quot;</td><td>0</td><td>2009</td><td>null</td></tr><tr><td>&quot;Hombres&quot;</td><td>10903</td><td>&quot;Alagón del Río&quot;</td><td>0</td><td>2008</td><td>null</td></tr><tr><td>&quot;Hombres&quot;</td><td>10903</td><td>&quot;Alagón del Río&quot;</td><td>0</td><td>2007</td><td>null</td></tr><tr><td>&quot;Hombres&quot;</td><td>10903</td><td>&quot;Alagón del Río&quot;</td><td>0</td><td>2006</td><td>null</td></tr><tr><td>&quot;Hombres&quot;</td><td>10903</td><td>&quot;Alagón del Río&quot;</td><td>0</td><td>2005</td><td>null</td></tr><tr><td>&hellip;</td><td>&hellip;</td><td>&hellip;</td><td>&hellip;</td><td>&hellip;</td><td>&hellip;</td></tr><tr><td>&quot;Mujeres&quot;</td><td>48915</td><td>&quot;Ziortza-Bolibar&quot;</td><td>99</td><td>2004</td><td>null</td></tr><tr><td>&quot;Mujeres&quot;</td><td>48915</td><td>&quot;Ziortza-Bolibar&quot;</td><td>99</td><td>2003</td><td>null</td></tr><tr><td>&quot;Mujeres&quot;</td><td>48915</td><td>&quot;Ziortza-Bolibar&quot;</td><td>100</td><td>2005</td><td>null</td></tr><tr><td>&quot;Mujeres&quot;</td><td>48915</td><td>&quot;Ziortza-Bolibar&quot;</td><td>100</td><td>2004</td><td>null</td></tr><tr><td>&quot;Mujeres&quot;</td><td>48915</td><td>&quot;Ziortza-Bolibar&quot;</td><td>100</td><td>2003</td><td>null</td></tr></tbody></table></div>"
            ]
          },
          "metadata": {},
          "execution_count": 15
        }
      ]
    },
    {
      "cell_type": "code",
      "source": [
        "import pandas as pd\n",
        "df_municipio_10903 = df_final.filter(pl.col(\"municipio_code\") == 10903)\n",
        "df_municipio_10903\n"
      ],
      "metadata": {
        "colab": {
          "base_uri": "https://localhost:8080/",
          "height": 443
        },
        "id": "1UnsDe0oZBpc",
        "outputId": "eea2a290-c9f2-4907-e54b-11d5f1715db2"
      },
      "execution_count": null,
      "outputs": [
        {
          "output_type": "execute_result",
          "data": {
            "text/plain": [
              "shape: (4_040, 6)\n",
              "┌─────────┬────────────────┬────────────────┬──────┬─────────┬────────┐\n",
              "│ sexo    ┆ municipio_code ┆ municipio_name ┆ edad ┆ periodo ┆ total  │\n",
              "│ ---     ┆ ---            ┆ ---            ┆ ---  ┆ ---     ┆ ---    │\n",
              "│ str     ┆ i64            ┆ str            ┆ i64  ┆ i64     ┆ f64    │\n",
              "╞═════════╪════════════════╪════════════════╪══════╪═════════╪════════╡\n",
              "│ Hombres ┆ 10903          ┆ Alagón del Río ┆ 0    ┆ 2022    ┆ 3000.0 │\n",
              "│ Hombres ┆ 10903          ┆ Alagón del Río ┆ 0    ┆ 2021    ┆ 2000.0 │\n",
              "│ Hombres ┆ 10903          ┆ Alagón del Río ┆ 0    ┆ 2020    ┆ 3000.0 │\n",
              "│ Hombres ┆ 10903          ┆ Alagón del Río ┆ 0    ┆ 2019    ┆ 4000.0 │\n",
              "│ Hombres ┆ 10903          ┆ Alagón del Río ┆ 0    ┆ 2018    ┆ 4000.0 │\n",
              "│ …       ┆ …              ┆ …              ┆ …    ┆ …       ┆ …      │\n",
              "│ Mujeres ┆ 10903          ┆ Alagón del Río ┆ 100  ┆ 2007    ┆ null   │\n",
              "│ Mujeres ┆ 10903          ┆ Alagón del Río ┆ 100  ┆ 2006    ┆ null   │\n",
              "│ Mujeres ┆ 10903          ┆ Alagón del Río ┆ 100  ┆ 2005    ┆ null   │\n",
              "│ Mujeres ┆ 10903          ┆ Alagón del Río ┆ 100  ┆ 2004    ┆ null   │\n",
              "│ Mujeres ┆ 10903          ┆ Alagón del Río ┆ 100  ┆ 2003    ┆ null   │\n",
              "└─────────┴────────────────┴────────────────┴──────┴─────────┴────────┘"
            ],
            "text/html": [
              "<div><style>\n",
              ".dataframe > thead > tr,\n",
              ".dataframe > tbody > tr {\n",
              "  text-align: right;\n",
              "  white-space: pre-wrap;\n",
              "}\n",
              "</style>\n",
              "<small>shape: (4_040, 6)</small><table border=\"1\" class=\"dataframe\"><thead><tr><th>sexo</th><th>municipio_code</th><th>municipio_name</th><th>edad</th><th>periodo</th><th>total</th></tr><tr><td>str</td><td>i64</td><td>str</td><td>i64</td><td>i64</td><td>f64</td></tr></thead><tbody><tr><td>&quot;Hombres&quot;</td><td>10903</td><td>&quot;Alagón del Río&quot;</td><td>0</td><td>2022</td><td>3000.0</td></tr><tr><td>&quot;Hombres&quot;</td><td>10903</td><td>&quot;Alagón del Río&quot;</td><td>0</td><td>2021</td><td>2000.0</td></tr><tr><td>&quot;Hombres&quot;</td><td>10903</td><td>&quot;Alagón del Río&quot;</td><td>0</td><td>2020</td><td>3000.0</td></tr><tr><td>&quot;Hombres&quot;</td><td>10903</td><td>&quot;Alagón del Río&quot;</td><td>0</td><td>2019</td><td>4000.0</td></tr><tr><td>&quot;Hombres&quot;</td><td>10903</td><td>&quot;Alagón del Río&quot;</td><td>0</td><td>2018</td><td>4000.0</td></tr><tr><td>&hellip;</td><td>&hellip;</td><td>&hellip;</td><td>&hellip;</td><td>&hellip;</td><td>&hellip;</td></tr><tr><td>&quot;Mujeres&quot;</td><td>10903</td><td>&quot;Alagón del Río&quot;</td><td>100</td><td>2007</td><td>null</td></tr><tr><td>&quot;Mujeres&quot;</td><td>10903</td><td>&quot;Alagón del Río&quot;</td><td>100</td><td>2006</td><td>null</td></tr><tr><td>&quot;Mujeres&quot;</td><td>10903</td><td>&quot;Alagón del Río&quot;</td><td>100</td><td>2005</td><td>null</td></tr><tr><td>&quot;Mujeres&quot;</td><td>10903</td><td>&quot;Alagón del Río&quot;</td><td>100</td><td>2004</td><td>null</td></tr><tr><td>&quot;Mujeres&quot;</td><td>10903</td><td>&quot;Alagón del Río&quot;</td><td>100</td><td>2003</td><td>null</td></tr></tbody></table></div>"
            ]
          },
          "metadata": {},
          "execution_count": 19
        }
      ]
    },
    {
      "cell_type": "code",
      "source": [],
      "metadata": {
        "colab": {
          "base_uri": "https://localhost:8080/"
        },
        "id": "-214jjUvYdGm",
        "outputId": "021af9d1-92e2-49ec-c204-368dd083a10d"
      },
      "execution_count": null,
      "outputs": [
        {
          "output_type": "stream",
          "name": "stdout",
          "text": [
            "shape: (4_040, 6)\n",
            "┌─────────┬────────────────┬────────────────┬──────┬─────────┬────────┐\n",
            "│ sexo    ┆ municipio_code ┆ municipio_name ┆ edad ┆ periodo ┆ total  │\n",
            "│ ---     ┆ ---            ┆ ---            ┆ ---  ┆ ---     ┆ ---    │\n",
            "│ str     ┆ i64            ┆ str            ┆ i64  ┆ i64     ┆ f64    │\n",
            "╞═════════╪════════════════╪════════════════╪══════╪═════════╪════════╡\n",
            "│ Hombres ┆ 10903          ┆ Alagón del Río ┆ 0    ┆ 2022    ┆ 3000.0 │\n",
            "│ Hombres ┆ 10903          ┆ Alagón del Río ┆ 0    ┆ 2021    ┆ 2000.0 │\n",
            "│ Hombres ┆ 10903          ┆ Alagón del Río ┆ 0    ┆ 2020    ┆ 3000.0 │\n",
            "│ Hombres ┆ 10903          ┆ Alagón del Río ┆ 0    ┆ 2019    ┆ 4000.0 │\n",
            "│ Hombres ┆ 10903          ┆ Alagón del Río ┆ 0    ┆ 2018    ┆ 4000.0 │\n",
            "│ …       ┆ …              ┆ …              ┆ …    ┆ …       ┆ …      │\n",
            "│ Mujeres ┆ 10903          ┆ Alagón del Río ┆ 100  ┆ 2007    ┆ null   │\n",
            "│ Mujeres ┆ 10903          ┆ Alagón del Río ┆ 100  ┆ 2006    ┆ null   │\n",
            "│ Mujeres ┆ 10903          ┆ Alagón del Río ┆ 100  ┆ 2005    ┆ null   │\n",
            "│ Mujeres ┆ 10903          ┆ Alagón del Río ┆ 100  ┆ 2004    ┆ null   │\n",
            "│ Mujeres ┆ 10903          ┆ Alagón del Río ┆ 100  ┆ 2003    ┆ null   │\n",
            "└─────────┴────────────────┴────────────────┴──────┴─────────┴────────┘\n"
          ]
        }
      ]
    },
    {
      "cell_type": "markdown",
      "source": [
        "### completamos con 0 los valores null"
      ],
      "metadata": {
        "id": "EmYifRAmaIzn"
      }
    },
    {
      "cell_type": "code",
      "source": [
        "df_final = df_final.with_columns([\n",
        "    pl.col(\"total\").fill_null(0.0)\n",
        "])\n"
      ],
      "metadata": {
        "id": "DvYM4HplYdI0"
      },
      "execution_count": null,
      "outputs": []
    },
    {
      "cell_type": "code",
      "source": [
        "print(df_final.select(pl.col(\"total\").null_count()).item())\n"
      ],
      "metadata": {
        "colab": {
          "base_uri": "https://localhost:8080/"
        },
        "id": "4Zi2_2haV6ZN",
        "outputId": "4128334d-6617-4f8f-a85c-326b01ac4c95"
      },
      "execution_count": null,
      "outputs": [
        {
          "output_type": "stream",
          "name": "stdout",
          "text": [
            "0\n"
          ]
        }
      ]
    },
    {
      "cell_type": "markdown",
      "source": [
        "### creamos datasets más pequeños\n",
        "\n"
      ],
      "metadata": {
        "id": "XA7c1v1HbMbC"
      }
    },
    {
      "cell_type": "code",
      "source": [
        "cifras_poblacion_municipio_men_total = df_final.filter(pl.col(\"sexo\") == \"Hombres\")\n",
        "cifras_poblacion_municipio_women_total = df_final.filter(pl.col(\"sexo\") == \"Mujeres\")"
      ],
      "metadata": {
        "id": "kqSMdILCbXNJ"
      },
      "execution_count": null,
      "outputs": []
    },
    {
      "cell_type": "code",
      "source": [
        "periodos = df_final.select(pl.col(\"periodo\").unique()).sort(\"periodo\")[\"periodo\"].to_list()\n",
        "periodos"
      ],
      "metadata": {
        "colab": {
          "base_uri": "https://localhost:8080/"
        },
        "id": "r11sGi8tcSBd",
        "outputId": "9f42b825-ebfe-4573-8f15-ec33e88f2501"
      },
      "execution_count": null,
      "outputs": [
        {
          "output_type": "execute_result",
          "data": {
            "text/plain": [
              "[2003,\n",
              " 2004,\n",
              " 2005,\n",
              " 2006,\n",
              " 2007,\n",
              " 2008,\n",
              " 2009,\n",
              " 2010,\n",
              " 2011,\n",
              " 2012,\n",
              " 2013,\n",
              " 2014,\n",
              " 2015,\n",
              " 2016,\n",
              " 2017,\n",
              " 2018,\n",
              " 2019,\n",
              " 2020,\n",
              " 2021,\n",
              " 2022]"
            ]
          },
          "metadata": {},
          "execution_count": 33
        }
      ]
    },
    {
      "cell_type": "code",
      "source": [
        "# Diccionarios para guardar los resultados\n",
        "cifras_poblacion_municipio_men = {}\n",
        "cifras_poblacion_municipio_women = {}\n",
        "\n",
        "for anio in periodos:\n",
        "    cifras_poblacion_municipio_men[anio] = cifras_poblacion_municipio_men_total.filter(pl.col(\"periodo\") == anio)\n",
        "    cifras_poblacion_municipio_women[anio] = cifras_poblacion_municipio_women_total.filter(pl.col(\"periodo\") == anio)\n"
      ],
      "metadata": {
        "id": "xwwghmAtbZ1K"
      },
      "execution_count": null,
      "outputs": []
    },
    {
      "cell_type": "code",
      "source": [
        "for anio in periodos:\n",
        "    try:\n",
        "        men_path = f\"/content/drive/Othercomputers/Mi PC (1)/GOOGLE DRIVE/DATA PESADA/cifras_municipio_hombres_{anio}.csv\"\n",
        "        cifras_poblacion_municipio_men[anio].write_csv(men_path)\n",
        "        print(f\"✅ Guardado: {men_path}\")\n",
        "    except Exception as e:\n",
        "        print(f\"❌ Error al guardar {men_path}: {e}\")\n",
        "\n",
        "    try:\n",
        "        women_path = f\"/content/drive/Othercomputers/Mi PC (1)/GOOGLE DRIVE/DATA PESADA/cifras_municipio_mujeres_{anio}.csv\"\n",
        "        cifras_poblacion_municipio_women[anio].write_csv(women_path)\n",
        "        print(f\"✅ Guardado: {women_path}\")\n",
        "    except Exception as e:\n",
        "        print(f\"❌ Error al guardar {women_path}: {e}\")\n"
      ],
      "metadata": {
        "colab": {
          "base_uri": "https://localhost:8080/"
        },
        "id": "RJNsuxqTcYpB",
        "outputId": "dc170a60-dd8a-419d-a26e-a409a0e29d60"
      },
      "execution_count": null,
      "outputs": [
        {
          "output_type": "stream",
          "name": "stdout",
          "text": [
            "✅ Guardado: /content/drive/Othercomputers/Mi PC (1)/GOOGLE DRIVE/DATA PESADA/cifras_municipio_hombres_2003.csv\n",
            "✅ Guardado: /content/drive/Othercomputers/Mi PC (1)/GOOGLE DRIVE/DATA PESADA/cifras_municipio_mujeres_2003.csv\n",
            "✅ Guardado: /content/drive/Othercomputers/Mi PC (1)/GOOGLE DRIVE/DATA PESADA/cifras_municipio_hombres_2004.csv\n",
            "✅ Guardado: /content/drive/Othercomputers/Mi PC (1)/GOOGLE DRIVE/DATA PESADA/cifras_municipio_mujeres_2004.csv\n",
            "✅ Guardado: /content/drive/Othercomputers/Mi PC (1)/GOOGLE DRIVE/DATA PESADA/cifras_municipio_hombres_2005.csv\n",
            "✅ Guardado: /content/drive/Othercomputers/Mi PC (1)/GOOGLE DRIVE/DATA PESADA/cifras_municipio_mujeres_2005.csv\n",
            "✅ Guardado: /content/drive/Othercomputers/Mi PC (1)/GOOGLE DRIVE/DATA PESADA/cifras_municipio_hombres_2006.csv\n",
            "✅ Guardado: /content/drive/Othercomputers/Mi PC (1)/GOOGLE DRIVE/DATA PESADA/cifras_municipio_mujeres_2006.csv\n",
            "✅ Guardado: /content/drive/Othercomputers/Mi PC (1)/GOOGLE DRIVE/DATA PESADA/cifras_municipio_hombres_2007.csv\n",
            "✅ Guardado: /content/drive/Othercomputers/Mi PC (1)/GOOGLE DRIVE/DATA PESADA/cifras_municipio_mujeres_2007.csv\n",
            "✅ Guardado: /content/drive/Othercomputers/Mi PC (1)/GOOGLE DRIVE/DATA PESADA/cifras_municipio_hombres_2008.csv\n",
            "✅ Guardado: /content/drive/Othercomputers/Mi PC (1)/GOOGLE DRIVE/DATA PESADA/cifras_municipio_mujeres_2008.csv\n",
            "✅ Guardado: /content/drive/Othercomputers/Mi PC (1)/GOOGLE DRIVE/DATA PESADA/cifras_municipio_hombres_2009.csv\n",
            "✅ Guardado: /content/drive/Othercomputers/Mi PC (1)/GOOGLE DRIVE/DATA PESADA/cifras_municipio_mujeres_2009.csv\n",
            "✅ Guardado: /content/drive/Othercomputers/Mi PC (1)/GOOGLE DRIVE/DATA PESADA/cifras_municipio_hombres_2010.csv\n",
            "✅ Guardado: /content/drive/Othercomputers/Mi PC (1)/GOOGLE DRIVE/DATA PESADA/cifras_municipio_mujeres_2010.csv\n",
            "✅ Guardado: /content/drive/Othercomputers/Mi PC (1)/GOOGLE DRIVE/DATA PESADA/cifras_municipio_hombres_2011.csv\n",
            "✅ Guardado: /content/drive/Othercomputers/Mi PC (1)/GOOGLE DRIVE/DATA PESADA/cifras_municipio_mujeres_2011.csv\n",
            "✅ Guardado: /content/drive/Othercomputers/Mi PC (1)/GOOGLE DRIVE/DATA PESADA/cifras_municipio_hombres_2012.csv\n",
            "✅ Guardado: /content/drive/Othercomputers/Mi PC (1)/GOOGLE DRIVE/DATA PESADA/cifras_municipio_mujeres_2012.csv\n",
            "✅ Guardado: /content/drive/Othercomputers/Mi PC (1)/GOOGLE DRIVE/DATA PESADA/cifras_municipio_hombres_2013.csv\n",
            "✅ Guardado: /content/drive/Othercomputers/Mi PC (1)/GOOGLE DRIVE/DATA PESADA/cifras_municipio_mujeres_2013.csv\n",
            "✅ Guardado: /content/drive/Othercomputers/Mi PC (1)/GOOGLE DRIVE/DATA PESADA/cifras_municipio_hombres_2014.csv\n",
            "✅ Guardado: /content/drive/Othercomputers/Mi PC (1)/GOOGLE DRIVE/DATA PESADA/cifras_municipio_mujeres_2014.csv\n",
            "✅ Guardado: /content/drive/Othercomputers/Mi PC (1)/GOOGLE DRIVE/DATA PESADA/cifras_municipio_hombres_2015.csv\n",
            "✅ Guardado: /content/drive/Othercomputers/Mi PC (1)/GOOGLE DRIVE/DATA PESADA/cifras_municipio_mujeres_2015.csv\n",
            "✅ Guardado: /content/drive/Othercomputers/Mi PC (1)/GOOGLE DRIVE/DATA PESADA/cifras_municipio_hombres_2016.csv\n",
            "✅ Guardado: /content/drive/Othercomputers/Mi PC (1)/GOOGLE DRIVE/DATA PESADA/cifras_municipio_mujeres_2016.csv\n",
            "✅ Guardado: /content/drive/Othercomputers/Mi PC (1)/GOOGLE DRIVE/DATA PESADA/cifras_municipio_hombres_2017.csv\n",
            "✅ Guardado: /content/drive/Othercomputers/Mi PC (1)/GOOGLE DRIVE/DATA PESADA/cifras_municipio_mujeres_2017.csv\n",
            "✅ Guardado: /content/drive/Othercomputers/Mi PC (1)/GOOGLE DRIVE/DATA PESADA/cifras_municipio_hombres_2018.csv\n",
            "✅ Guardado: /content/drive/Othercomputers/Mi PC (1)/GOOGLE DRIVE/DATA PESADA/cifras_municipio_mujeres_2018.csv\n",
            "✅ Guardado: /content/drive/Othercomputers/Mi PC (1)/GOOGLE DRIVE/DATA PESADA/cifras_municipio_hombres_2019.csv\n",
            "✅ Guardado: /content/drive/Othercomputers/Mi PC (1)/GOOGLE DRIVE/DATA PESADA/cifras_municipio_mujeres_2019.csv\n",
            "✅ Guardado: /content/drive/Othercomputers/Mi PC (1)/GOOGLE DRIVE/DATA PESADA/cifras_municipio_hombres_2020.csv\n",
            "✅ Guardado: /content/drive/Othercomputers/Mi PC (1)/GOOGLE DRIVE/DATA PESADA/cifras_municipio_mujeres_2020.csv\n",
            "✅ Guardado: /content/drive/Othercomputers/Mi PC (1)/GOOGLE DRIVE/DATA PESADA/cifras_municipio_hombres_2021.csv\n",
            "✅ Guardado: /content/drive/Othercomputers/Mi PC (1)/GOOGLE DRIVE/DATA PESADA/cifras_municipio_mujeres_2021.csv\n",
            "✅ Guardado: /content/drive/Othercomputers/Mi PC (1)/GOOGLE DRIVE/DATA PESADA/cifras_municipio_hombres_2022.csv\n",
            "✅ Guardado: /content/drive/Othercomputers/Mi PC (1)/GOOGLE DRIVE/DATA PESADA/cifras_municipio_mujeres_2022.csv\n"
          ]
        }
      ]
    },
    {
      "cell_type": "markdown",
      "source": [
        "### tamaño de los dataset"
      ],
      "metadata": {
        "id": "gTSftk6RdCHP"
      }
    },
    {
      "cell_type": "code",
      "source": [
        "for anio in periodos:\n",
        "    n_hombres = cifras_poblacion_municipio_men[anio].shape[0]\n",
        "    n_mujeres = cifras_poblacion_municipio_women[anio].shape[0]\n",
        "\n",
        "    print(f\"📅 {anio} - Hombres: {n_hombres} filas\")\n",
        "    print(f\"📅 {anio} - Mujeres: {n_mujeres} filas\\n\")\n"
      ],
      "metadata": {
        "colab": {
          "base_uri": "https://localhost:8080/"
        },
        "id": "SXiep86hdMTJ",
        "outputId": "1117f5cc-a61e-4bcc-c38f-5f8b7e7c5f2b"
      },
      "execution_count": null,
      "outputs": [
        {
          "output_type": "stream",
          "name": "stdout",
          "text": [
            "📅 2003 - Hombres: 821635 filas\n",
            "📅 2003 - Mujeres: 821635 filas\n",
            "\n",
            "📅 2004 - Hombres: 821635 filas\n",
            "📅 2004 - Mujeres: 821635 filas\n",
            "\n",
            "📅 2005 - Hombres: 821635 filas\n",
            "📅 2005 - Mujeres: 821635 filas\n",
            "\n",
            "📅 2006 - Hombres: 821635 filas\n",
            "📅 2006 - Mujeres: 821635 filas\n",
            "\n",
            "📅 2007 - Hombres: 821635 filas\n",
            "📅 2007 - Mujeres: 821635 filas\n",
            "\n",
            "📅 2008 - Hombres: 821635 filas\n",
            "📅 2008 - Mujeres: 821635 filas\n",
            "\n",
            "📅 2009 - Hombres: 821635 filas\n",
            "📅 2009 - Mujeres: 821635 filas\n",
            "\n",
            "📅 2010 - Hombres: 821635 filas\n",
            "📅 2010 - Mujeres: 821635 filas\n",
            "\n",
            "📅 2011 - Hombres: 821635 filas\n",
            "📅 2011 - Mujeres: 821635 filas\n",
            "\n",
            "📅 2012 - Hombres: 821635 filas\n",
            "📅 2012 - Mujeres: 821635 filas\n",
            "\n",
            "📅 2013 - Hombres: 821635 filas\n",
            "📅 2013 - Mujeres: 821635 filas\n",
            "\n",
            "📅 2014 - Hombres: 821635 filas\n",
            "📅 2014 - Mujeres: 821635 filas\n",
            "\n",
            "📅 2015 - Hombres: 821635 filas\n",
            "📅 2015 - Mujeres: 821635 filas\n",
            "\n",
            "📅 2016 - Hombres: 821635 filas\n",
            "📅 2016 - Mujeres: 821635 filas\n",
            "\n",
            "📅 2017 - Hombres: 821635 filas\n",
            "📅 2017 - Mujeres: 821635 filas\n",
            "\n",
            "📅 2018 - Hombres: 821635 filas\n",
            "📅 2018 - Mujeres: 821635 filas\n",
            "\n",
            "📅 2019 - Hombres: 821635 filas\n",
            "📅 2019 - Mujeres: 821635 filas\n",
            "\n",
            "📅 2020 - Hombres: 821635 filas\n",
            "📅 2020 - Mujeres: 821635 filas\n",
            "\n",
            "📅 2021 - Hombres: 821635 filas\n",
            "📅 2021 - Mujeres: 821635 filas\n",
            "\n",
            "📅 2022 - Hombres: 821635 filas\n",
            "📅 2022 - Mujeres: 821635 filas\n",
            "\n"
          ]
        }
      ]
    },
    {
      "cell_type": "code",
      "source": [
        "# Lista para guardar resultados de resumenes anuales\n",
        "resumen_anual = []\n",
        "\n",
        "for anio in periodos:\n",
        "    total_hombres = cifras_poblacion_municipio_men[anio][\"total\"].sum()\n",
        "    total_mujeres = cifras_poblacion_municipio_women[anio][\"total\"].sum()\n",
        "\n",
        "    resumen_anual.append({\n",
        "        \"anio\": anio,\n",
        "        \"hombres\": total_hombres,\n",
        "        \"mujeres\": total_mujeres\n",
        "    })\n"
      ],
      "metadata": {
        "id": "3bemOMqPddzy"
      },
      "execution_count": null,
      "outputs": []
    },
    {
      "cell_type": "code",
      "source": [
        "import pandas as pd\n",
        "import matplotlib.pyplot as plt\n",
        "\n",
        "df_resumen = pd.DataFrame(resumen_anual)\n",
        "\n",
        "# Gráfico\n",
        "plt.figure(figsize=(10, 6))\n",
        "plt.plot(df_resumen[\"anio\"], df_resumen[\"hombres\"], marker='o', label=\"Hombres\")\n",
        "plt.plot(df_resumen[\"anio\"], df_resumen[\"mujeres\"], marker='o', label=\"Mujeres\")\n",
        "plt.title(\"Evolución de la población por sexo (2003–2022)\")\n",
        "plt.xlabel(\"Año\")\n",
        "plt.ylabel(\"Población total\")\n",
        "plt.legend()\n",
        "plt.grid(True)\n",
        "plt.tight_layout()\n",
        "plt.show()\n"
      ],
      "metadata": {
        "colab": {
          "base_uri": "https://localhost:8080/",
          "height": 607
        },
        "id": "TuRfD0mYdhH3",
        "outputId": "0d8bfc49-3065-47f2-ed07-dbf7b61a6aa3"
      },
      "execution_count": null,
      "outputs": [
        {
          "output_type": "display_data",
          "data": {
            "text/plain": [
              "<Figure size 1000x600 with 1 Axes>"
            ],
            "image/png": "[encoded data removed]"
          },
          "metadata": {}
        }
      ]
    },
    {
      "cell_type": "code",
      "source": [
        "# Buscar \"Melilla\" en los nombres de municipio\n",
        "df_final.filter(pl.col(\"municipio_name\").str.contains(\"Melilla\")).select(\"municipio_code\", \"municipio_name\").unique()\n",
        "cifras_melilla_hombres = {}\n",
        "cifras_melilla_mujeres = {}\n",
        "\n",
        "for anio in periodos:\n",
        "    cifras_melilla_hombres[anio] = cifras_poblacion_municipio_men[anio].filter(pl.col(\"municipio_name\") == \"Melilla\")\n",
        "    cifras_melilla_mujeres[anio] = cifras_poblacion_municipio_women[anio].filter(pl.col(\"municipio_name\") == \"Melilla\")\n",
        "resumen_melilla = []\n",
        "\n",
        "for anio in periodos:\n",
        "    total_h = cifras_melilla_hombres[anio][\"total\"].sum()\n",
        "    total_m = cifras_melilla_mujeres[anio][\"total\"].sum()\n",
        "\n",
        "    resumen_melilla.append({\n",
        "        \"anio\": anio,\n",
        "        \"hombres\": total_h,\n",
        "        \"mujeres\": total_m\n",
        "    })\n"
      ],
      "metadata": {
        "id": "5kN4E-cIdpzo"
      },
      "execution_count": null,
      "outputs": []
    },
    {
      "cell_type": "code",
      "source": [
        "import pandas as pd\n",
        "import matplotlib.pyplot as plt\n",
        "\n",
        "df_melilla = pd.DataFrame(resumen_melilla)\n",
        "\n",
        "plt.figure(figsize=(10, 6))\n",
        "plt.plot(df_melilla[\"anio\"], df_melilla[\"hombres\"], marker='o', label=\"Hombres\")\n",
        "plt.plot(df_melilla[\"anio\"], df_melilla[\"mujeres\"], marker='o', label=\"Mujeres\")\n",
        "plt.title(\"Evolución de la población en Melilla (2003–2022)\")\n",
        "plt.xlabel(\"Año\")\n",
        "plt.ylabel(\"Población total\")\n",
        "plt.legend()\n",
        "plt.grid(True)\n",
        "plt.tight_layout()\n",
        "plt.show()\n"
      ],
      "metadata": {
        "colab": {
          "base_uri": "https://localhost:8080/",
          "height": 607
        },
        "id": "yYhWk5IXd20v",
        "outputId": "45bc7797-d83c-4653-b594-15551fca88fd"
      },
      "execution_count": null,
      "outputs": [
        {
          "output_type": "display_data",
          "data": {
            "text/plain": [
              "<Figure size 1000x600 with 1 Axes>"
            ],
            "image/png": "[encoded data removed]"
          },
          "metadata": {}
        }
      ]
    },
    {
      "cell_type": "code",
      "source": [
        "cifras_poblacion_municipio_men[2022].head()\n"
      ],
      "metadata": {
        "colab": {
          "base_uri": "https://localhost:8080/",
          "height": 255
        },
        "id": "GKXOgUc4hJkd",
        "outputId": "67a0d9f7-3424-45b0-cde6-f7053ac1e18c"
      },
      "execution_count": 43,
      "outputs": [
        {
          "output_type": "execute_result",
          "data": {
            "text/plain": [
              "shape: (5, 6)\n",
              "┌─────────┬────────────────┬────────────────┬──────┬─────────┬───────┐\n",
              "│ sexo    ┆ municipio_code ┆ municipio_name ┆ edad ┆ periodo ┆ total │\n",
              "│ ---     ┆ ---            ┆ ---            ┆ ---  ┆ ---     ┆ ---   │\n",
              "│ str     ┆ i64            ┆ str            ┆ i64  ┆ i64     ┆ f64   │\n",
              "╞═════════╪════════════════╪════════════════╪══════╪═════════╪═══════╡\n",
              "│ Hombres ┆ 44001          ┆ Ababuj         ┆ 0    ┆ 2022    ┆ 0.0   │\n",
              "│ Hombres ┆ 44001          ┆ Ababuj         ┆ 1    ┆ 2022    ┆ 0.0   │\n",
              "│ Hombres ┆ 44001          ┆ Ababuj         ┆ 2    ┆ 2022    ┆ 0.0   │\n",
              "│ Hombres ┆ 44001          ┆ Ababuj         ┆ 3    ┆ 2022    ┆ 0.0   │\n",
              "│ Hombres ┆ 44001          ┆ Ababuj         ┆ 4    ┆ 2022    ┆ 0.0   │\n",
              "└─────────┴────────────────┴────────────────┴──────┴─────────┴───────┘"
            ],
            "text/html": [
              "<div><style>\n",
              ".dataframe > thead > tr,\n",
              ".dataframe > tbody > tr {\n",
              "  text-align: right;\n",
              "  white-space: pre-wrap;\n",
              "}\n",
              "</style>\n",
              "<small>shape: (5, 6)</small><table border=\"1\" class=\"dataframe\"><thead><tr><th>sexo</th><th>municipio_code</th><th>municipio_name</th><th>edad</th><th>periodo</th><th>total</th></tr><tr><td>str</td><td>i64</td><td>str</td><td>i64</td><td>i64</td><td>f64</td></tr></thead><tbody><tr><td>&quot;Hombres&quot;</td><td>44001</td><td>&quot;Ababuj&quot;</td><td>0</td><td>2022</td><td>0.0</td></tr><tr><td>&quot;Hombres&quot;</td><td>44001</td><td>&quot;Ababuj&quot;</td><td>1</td><td>2022</td><td>0.0</td></tr><tr><td>&quot;Hombres&quot;</td><td>44001</td><td>&quot;Ababuj&quot;</td><td>2</td><td>2022</td><td>0.0</td></tr><tr><td>&quot;Hombres&quot;</td><td>44001</td><td>&quot;Ababuj&quot;</td><td>3</td><td>2022</td><td>0.0</td></tr><tr><td>&quot;Hombres&quot;</td><td>44001</td><td>&quot;Ababuj&quot;</td><td>4</td><td>2022</td><td>0.0</td></tr></tbody></table></div>"
            ]
          },
          "metadata": {},
          "execution_count": 43
        }
      ]
    },
    {
      "cell_type": "markdown",
      "source": [
        "### transformamos para mantener la estructura del proyecto"
      ],
      "metadata": {
        "id": "APT4Ghrwh4uu"
      }
    },
    {
      "cell_type": "code",
      "source": [
        "df_original.head()"
      ],
      "metadata": {
        "colab": {
          "base_uri": "https://localhost:8080/",
          "height": 236
        },
        "id": "cvYPwpUIhTOG",
        "outputId": "5c167c7f-9020-4bcb-8eca-edc362719a31"
      },
      "execution_count": 46,
      "outputs": [
        {
          "output_type": "execute_result",
          "data": {
            "text/plain": [
              "   cod_mun     0     1     2     3     4     5     6     7     8  ...  91  92  \\\n",
              "0  2700102   228   205   252   255   259   255   233   219   226  ...   1   1   \n",
              "1  2700201   210   223   202   229   194   222   221   227   212  ...   0   0   \n",
              "2  2700300  2140  2054  2052  2098  2210  2241  2123  2023  2071  ...  12  16   \n",
              "3  2700409   508   508   544   520   586   587   535   445   511  ...   4   2   \n",
              "4  2700508   175   161   164   159   177   179   142   132   149  ...   1   1   \n",
              "\n",
              "   93  94  95  96  97  98  99  100  \n",
              "0   3   1   1   1   0   1   0    5  \n",
              "1   1   3   1   0   0   0   0    0  \n",
              "2   7   9   7   8   9   4   2   13  \n",
              "3   0   3   2   1   2   1   0    6  \n",
              "4   2   1   0   0   0   0   0    1  \n",
              "\n",
              "[5 rows x 102 columns]"
            ],
            "text/html": [
              "\n",
              "  <div id=\"df-882e3c0e-dbf5-4073-99d2-18b86bbc38ec\" class=\"colab-df-container\">\n",
              "    <div>\n",
              "<style scoped>\n",
              "    .dataframe tbody tr th:only-of-type {\n",
              "        vertical-align: middle;\n",
              "    }\n",
              "\n",
              "    .dataframe tbody tr th {\n",
              "        vertical-align: top;\n",
              "    }\n",
              "\n",
              "    .dataframe thead th {\n",
              "        text-align: right;\n",
              "    }\n",
              "</style>\n",
              "<table border=\"1\" class=\"dataframe\">\n",
              "  <thead>\n",
              "    <tr style=\"text-align: right;\">\n",
              "      <th></th>\n",
              "      <th>cod_mun</th>\n",
              "      <th>0</th>\n",
              "      <th>1</th>\n",
              "      <th>2</th>\n",
              "      <th>3</th>\n",
              "      <th>4</th>\n",
              "      <th>5</th>\n",
              "      <th>6</th>\n",
              "      <th>7</th>\n",
              "      <th>8</th>\n",
              "      <th>...</th>\n",
              "      <th>91</th>\n",
              "      <th>92</th>\n",
              "      <th>93</th>\n",
              "      <th>94</th>\n",
              "      <th>95</th>\n",
              "      <th>96</th>\n",
              "      <th>97</th>\n",
              "      <th>98</th>\n",
              "      <th>99</th>\n",
              "      <th>100</th>\n",
              "    </tr>\n",
              "  </thead>\n",
              "  <tbody>\n",
              "    <tr>\n",
              "      <th>0</th>\n",
              "      <td>2700102</td>\n",
              "      <td>228</td>\n",
              "      <td>205</td>\n",
              "      <td>252</td>\n",
              "      <td>255</td>\n",
              "      <td>259</td>\n",
              "      <td>255</td>\n",
              "      <td>233</td>\n",
              "      <td>219</td>\n",
              "      <td>226</td>\n",
              "      <td>...</td>\n",
              "      <td>1</td>\n",
              "      <td>1</td>\n",
              "      <td>3</td>\n",
              "      <td>1</td>\n",
              "      <td>1</td>\n",
              "      <td>1</td>\n",
              "      <td>0</td>\n",
              "      <td>1</td>\n",
              "      <td>0</td>\n",
              "      <td>5</td>\n",
              "    </tr>\n",
              "    <tr>\n",
              "      <th>1</th>\n",
              "      <td>2700201</td>\n",
              "      <td>210</td>\n",
              "      <td>223</td>\n",
              "      <td>202</td>\n",
              "      <td>229</td>\n",
              "      <td>194</td>\n",
              "      <td>222</td>\n",
              "      <td>221</td>\n",
              "      <td>227</td>\n",
              "      <td>212</td>\n",
              "      <td>...</td>\n",
              "      <td>0</td>\n",
              "      <td>0</td>\n",
              "      <td>1</td>\n",
              "      <td>3</td>\n",
              "      <td>1</td>\n",
              "      <td>0</td>\n",
              "      <td>0</td>\n",
              "      <td>0</td>\n",
              "      <td>0</td>\n",
              "      <td>0</td>\n",
              "    </tr>\n",
              "    <tr>\n",
              "      <th>2</th>\n",
              "      <td>2700300</td>\n",
              "      <td>2140</td>\n",
              "      <td>2054</td>\n",
              "      <td>2052</td>\n",
              "      <td>2098</td>\n",
              "      <td>2210</td>\n",
              "      <td>2241</td>\n",
              "      <td>2123</td>\n",
              "      <td>2023</td>\n",
              "      <td>2071</td>\n",
              "      <td>...</td>\n",
              "      <td>12</td>\n",
              "      <td>16</td>\n",
              "      <td>7</td>\n",
              "      <td>9</td>\n",
              "      <td>7</td>\n",
              "      <td>8</td>\n",
              "      <td>9</td>\n",
              "      <td>4</td>\n",
              "      <td>2</td>\n",
              "      <td>13</td>\n",
              "    </tr>\n",
              "    <tr>\n",
              "      <th>3</th>\n",
              "      <td>2700409</td>\n",
              "      <td>508</td>\n",
              "      <td>508</td>\n",
              "      <td>544</td>\n",
              "      <td>520</td>\n",
              "      <td>586</td>\n",
              "      <td>587</td>\n",
              "      <td>535</td>\n",
              "      <td>445</td>\n",
              "      <td>511</td>\n",
              "      <td>...</td>\n",
              "      <td>4</td>\n",
              "      <td>2</td>\n",
              "      <td>0</td>\n",
              "      <td>3</td>\n",
              "      <td>2</td>\n",
              "      <td>1</td>\n",
              "      <td>2</td>\n",
              "      <td>1</td>\n",
              "      <td>0</td>\n",
              "      <td>6</td>\n",
              "    </tr>\n",
              "    <tr>\n",
              "      <th>4</th>\n",
              "      <td>2700508</td>\n",
              "      <td>175</td>\n",
              "      <td>161</td>\n",
              "      <td>164</td>\n",
              "      <td>159</td>\n",
              "      <td>177</td>\n",
              "      <td>179</td>\n",
              "      <td>142</td>\n",
              "      <td>132</td>\n",
              "      <td>149</td>\n",
              "      <td>...</td>\n",
              "      <td>1</td>\n",
              "      <td>1</td>\n",
              "      <td>2</td>\n",
              "      <td>1</td>\n",
              "      <td>0</td>\n",
              "      <td>0</td>\n",
              "      <td>0</td>\n",
              "      <td>0</td>\n",
              "      <td>0</td>\n",
              "      <td>1</td>\n",
              "    </tr>\n",
              "  </tbody>\n",
              "</table>\n",
              "<p>5 rows × 102 columns</p>\n",
              "</div>\n",
              "    <div class=\"colab-df-buttons\">\n",
              "\n",
              "  <div class=\"colab-df-container\">\n",
              "    <button class=\"colab-df-convert\" onclick=\"convertToInteractive('df-882e3c0e-dbf5-4073-99d2-18b86bbc38ec')\"\n",
              "            title=\"Convert this dataframe to an interactive table.\"\n",
              "            style=\"display:none;\">\n",
              "\n",
              "  <svg xmlns=\"http://www.w3.org/2000/svg\" height=\"24px\" viewBox=\"0 -960 960 960\">\n",
              "    <path d=\"M120-120v-720h720v720H120Zm60-500h600v-160H180v160Zm220 220h160v-160H400v160Zm0 220h160v-160H400v160ZM180-400h160v-160H180v160Zm440 0h160v-160H620v160ZM180-180h160v-160H180v160Zm440 0h160v-160H620v160Z\"/>\n",
              "  </svg>\n",
              "    </button>\n",
              "\n",
              "  <style>\n",
              "    .colab-df-container {\n",
              "      display:flex;\n",
              "      gap: 12px;\n",
              "    }\n",
              "\n",
              "    .colab-df-convert {\n",
              "      background-color: #E8F0FE;\n",
              "      border: none;\n",
              "      border-radius: 50%;\n",
              "      cursor: pointer;\n",
              "      display: none;\n",
              "      fill: #1967D2;\n",
              "      height: 32px;\n",
              "      padding: 0 0 0 0;\n",
              "      width: 32px;\n",
              "    }\n",
              "\n",
              "    .colab-df-convert:hover {\n",
              "      background-color: #E2EBFA;\n",
              "      box-shadow: 0px 1px 2px rgba(60, 64, 67, 0.3), 0px 1px 3px 1px rgba(60, 64, 67, 0.15);\n",
              "      fill: #174EA6;\n",
              "    }\n",
              "\n",
              "    .colab-df-buttons div {\n",
              "      margin-bottom: 4px;\n",
              "    }\n",
              "\n",
              "    [theme=dark] .colab-df-convert {\n",
              "      background-color: #3B4455;\n",
              "      fill: #D2E3FC;\n",
              "    }\n",
              "\n",
              "    [theme=dark] .colab-df-convert:hover {\n",
              "      background-color: #434B5C;\n",
              "      box-shadow: 0px 1px 3px 1px rgba(0, 0, 0, 0.15);\n",
              "      filter: drop-shadow(0px 1px 2px rgba(0, 0, 0, 0.3));\n",
              "      fill: #FFFFFF;\n",
              "    }\n",
              "  </style>\n",
              "\n",
              "    <script>\n",
              "      const buttonEl =\n",
              "        document.querySelector('#df-882e3c0e-dbf5-4073-99d2-18b86bbc38ec button.colab-df-convert');\n",
              "      buttonEl.style.display =\n",
              "        google.colab.kernel.accessAllowed ? 'block' : 'none';\n",
              "\n",
              "      async function convertToInteractive(key) {\n",
              "        const element = document.querySelector('#df-882e3c0e-dbf5-4073-99d2-18b86bbc38ec');\n",
              "        const dataTable =\n",
              "          await google.colab.kernel.invokeFunction('convertToInteractive',\n",
              "                                                    [key], {});\n",
              "        if (!dataTable) return;\n",
              "\n",
              "        const docLinkHtml = 'Like what you see? Visit the ' +\n",
              "          '<a target=\"_blank\" href=https://colab.research.google.com/notebooks/data_table.ipynb>data table notebook</a>'\n",
              "          + ' to learn more about interactive tables.';\n",
              "        element.innerHTML = '';\n",
              "        dataTable['output_type'] = 'display_data';\n",
              "        await google.colab.output.renderOutput(dataTable, element);\n",
              "        const docLink = document.createElement('div');\n",
              "        docLink.innerHTML = docLinkHtml;\n",
              "        element.appendChild(docLink);\n",
              "      }\n",
              "    </script>\n",
              "  </div>\n",
              "\n",
              "\n",
              "<div id=\"df-cfaadffb-710b-40f4-bb33-4f42bf7d2016\">\n",
              "  <button class=\"colab-df-quickchart\" onclick=\"quickchart('df-cfaadffb-710b-40f4-bb33-4f42bf7d2016')\"\n",
              "            title=\"Suggest charts\"\n",
              "            style=\"display:none;\">\n",
              "\n",
              "<svg xmlns=\"http://www.w3.org/2000/svg\" height=\"24px\"viewBox=\"0 0 24 24\"\n",
              "     width=\"24px\">\n",
              "    <g>\n",
              "        <path d=\"M19 3H5c-1.1 0-2 .9-2 2v14c0 1.1.9 2 2 2h14c1.1 0 2-.9 2-2V5c0-1.1-.9-2-2-2zM9 17H7v-7h2v7zm4 0h-2V7h2v10zm4 0h-2v-4h2v4z\"/>\n",
              "    </g>\n",
              "</svg>\n",
              "  </button>\n",
              "\n",
              "<style>\n",
              "  .colab-df-quickchart {\n",
              "      --bg-color: #E8F0FE;\n",
              "      --fill-color: #1967D2;\n",
              "      --hover-bg-color: #E2EBFA;\n",
              "      --hover-fill-color: #174EA6;\n",
              "      --disabled-fill-color: #AAA;\n",
              "      --disabled-bg-color: #DDD;\n",
              "  }\n",
              "\n",
              "  [theme=dark] .colab-df-quickchart {\n",
              "      --bg-color: #3B4455;\n",
              "      --fill-color: #D2E3FC;\n",
              "      --hover-bg-color: #434B5C;\n",
              "      --hover-fill-color: #FFFFFF;\n",
              "      --disabled-bg-color: #3B4455;\n",
              "      --disabled-fill-color: #666;\n",
              "  }\n",
              "\n",
              "  .colab-df-quickchart {\n",
              "    background-color: var(--bg-color);\n",
              "    border: none;\n",
              "    border-radius: 50%;\n",
              "    cursor: pointer;\n",
              "    display: none;\n",
              "    fill: var(--fill-color);\n",
              "    height: 32px;\n",
              "    padding: 0;\n",
              "    width: 32px;\n",
              "  }\n",
              "\n",
              "  .colab-df-quickchart:hover {\n",
              "    background-color: var(--hover-bg-color);\n",
              "    box-shadow: 0 1px 2px rgba(60, 64, 67, 0.3), 0 1px 3px 1px rgba(60, 64, 67, 0.15);\n",
              "    fill: var(--button-hover-fill-color);\n",
              "  }\n",
              "\n",
              "  .colab-df-quickchart-complete:disabled,\n",
              "  .colab-df-quickchart-complete:disabled:hover {\n",
              "    background-color: var(--disabled-bg-color);\n",
              "    fill: var(--disabled-fill-color);\n",
              "    box-shadow: none;\n",
              "  }\n",
              "\n",
              "  .colab-df-spinner {\n",
              "    border: 2px solid var(--fill-color);\n",
              "    border-color: transparent;\n",
              "    border-bottom-color: var(--fill-color);\n",
              "    animation:\n",
              "      spin 1s steps(1) infinite;\n",
              "  }\n",
              "\n",
              "  @keyframes spin {\n",
              "    0% {\n",
              "      border-color: transparent;\n",
              "      border-bottom-color: var(--fill-color);\n",
              "      border-left-color: var(--fill-color);\n",
              "    }\n",
              "    20% {\n",
              "      border-color: transparent;\n",
              "      border-left-color: var(--fill-color);\n",
              "      border-top-color: var(--fill-color);\n",
              "    }\n",
              "    30% {\n",
              "      border-color: transparent;\n",
              "      border-left-color: var(--fill-color);\n",
              "      border-top-color: var(--fill-color);\n",
              "      border-right-color: var(--fill-color);\n",
              "    }\n",
              "    40% {\n",
              "      border-color: transparent;\n",
              "      border-right-color: var(--fill-color);\n",
              "      border-top-color: var(--fill-color);\n",
              "    }\n",
              "    60% {\n",
              "      border-color: transparent;\n",
              "      border-right-color: var(--fill-color);\n",
              "    }\n",
              "    80% {\n",
              "      border-color: transparent;\n",
              "      border-right-color: var(--fill-color);\n",
              "      border-bottom-color: var(--fill-color);\n",
              "    }\n",
              "    90% {\n",
              "      border-color: transparent;\n",
              "      border-bottom-color: var(--fill-color);\n",
              "    }\n",
              "  }\n",
              "</style>\n",
              "\n",
              "  <script>\n",
              "    async function quickchart(key) {\n",
              "      const quickchartButtonEl =\n",
              "        document.querySelector('#' + key + ' button');\n",
              "      quickchartButtonEl.disabled = true;  // To prevent multiple clicks.\n",
              "      quickchartButtonEl.classList.add('colab-df-spinner');\n",
              "      try {\n",
              "        const charts = await google.colab.kernel.invokeFunction(\n",
              "            'suggestCharts', [key], {});\n",
              "      } catch (error) {\n",
              "        console.error('Error during call to suggestCharts:', error);\n",
              "      }\n",
              "      quickchartButtonEl.classList.remove('colab-df-spinner');\n",
              "      quickchartButtonEl.classList.add('colab-df-quickchart-complete');\n",
              "    }\n",
              "    (() => {\n",
              "      let quickchartButtonEl =\n",
              "        document.querySelector('#df-cfaadffb-710b-40f4-bb33-4f42bf7d2016 button');\n",
              "      quickchartButtonEl.style.display =\n",
              "        google.colab.kernel.accessAllowed ? 'block' : 'none';\n",
              "    })();\n",
              "  </script>\n",
              "</div>\n",
              "\n",
              "    </div>\n",
              "  </div>\n"
            ],
            "application/vnd.google.colaboratory.intrinsic+json": {
              "type": "dataframe",
              "variable_name": "df_original"
            }
          },
          "metadata": {},
          "execution_count": 46
        }
      ]
    },
    {
      "cell_type": "code",
      "source": [
        "import os\n",
        "\n",
        "# Crear carpeta si no existe\n",
        "output_dir = \"/content/drive/Othercomputers/Mi PC (1)/GOOGLE DRIVE/DATA PESADA/cifras_poblacion_municipio_final\"\n",
        "os.makedirs(output_dir, exist_ok=True)\n",
        "\n",
        "for anio in periodos:\n",
        "    # Hombres\n",
        "    df_men_wide = (\n",
        "        cifras_poblacion_municipio_men[anio]\n",
        "        .pivot(\n",
        "            values=\"total\",\n",
        "            index=\"municipio_code\",\n",
        "            columns=\"edad\",\n",
        "            aggregate_function=\"first\"\n",
        "        )\n",
        "        .sort(\"municipio_code\")\n",
        "        .rename({\"municipio_code\": \"cod_mun\"})\n",
        "    )\n",
        "\n",
        "    try:\n",
        "        path_men = f\"{output_dir}/cifras_municipio_hombres_{anio}_formato_ancho.csv\"\n",
        "        df_men_wide.write_csv(path_men, separator=\";\")\n",
        "        print(f\"✅ Guardado: {path_men}\")\n",
        "    except Exception as e:\n",
        "        print(f\"❌ Error hombres {anio}: {e}\")\n",
        "\n",
        "    # Mujeres\n",
        "    df_women_wide = (\n",
        "        cifras_poblacion_municipio_women[anio]\n",
        "        .pivot(\n",
        "            values=\"total\",\n",
        "            index=\"municipio_code\",\n",
        "            columns=\"edad\",\n",
        "            aggregate_function=\"first\"\n",
        "        )\n",
        "        .sort(\"municipio_code\")\n",
        "        .rename({\"municipio_code\": \"cod_mun\"})\n",
        "    )\n",
        "\n",
        "    try:\n",
        "        path_women = f\"{output_dir}/cifras_municipio_mujeres_{anio}_formato_ancho.csv\"\n",
        "        df_women_wide.write_csv(path_women, separator=\";\")\n",
        "        print(f\"✅ Guardado: {path_women}\")\n",
        "    except Exception as e:\n",
        "        print(f\"❌ Error mujeres {anio}: {e}\")\n"
      ],
      "metadata": {
        "colab": {
          "base_uri": "https://localhost:8080/",
          "height": 0
        },
        "id": "-rWy5VnUhTQX",
        "outputId": "23948b8d-1132-4166-e990-2ade7ea88f6e"
      },
      "execution_count": 48,
      "outputs": [
        {
          "output_type": "stream",
          "name": "stderr",
          "text": [
            "<ipython-input-48-134cb72c6c0c>:11: DeprecationWarning: The argument `columns` for `DataFrame.pivot` is deprecated. It has been renamed to `on`.\n",
            "  .pivot(\n"
          ]
        },
        {
          "output_type": "stream",
          "name": "stdout",
          "text": [
            "✅ Guardado: /content/drive/Othercomputers/Mi PC (1)/GOOGLE DRIVE/DATA PESADA/cifras_poblacion_municipio_final/cifras_municipio_hombres_2003_formato_ancho.csv\n"
          ]
        },
        {
          "output_type": "stream",
          "name": "stderr",
          "text": [
            "<ipython-input-48-134cb72c6c0c>:31: DeprecationWarning: The argument `columns` for `DataFrame.pivot` is deprecated. It has been renamed to `on`.\n",
            "  .pivot(\n"
          ]
        },
        {
          "output_type": "stream",
          "name": "stdout",
          "text": [
            "✅ Guardado: /content/drive/Othercomputers/Mi PC (1)/GOOGLE DRIVE/DATA PESADA/cifras_poblacion_municipio_final/cifras_municipio_mujeres_2003_formato_ancho.csv\n",
            "✅ Guardado: /content/drive/Othercomputers/Mi PC (1)/GOOGLE DRIVE/DATA PESADA/cifras_poblacion_municipio_final/cifras_municipio_hombres_2004_formato_ancho.csv\n",
            "✅ Guardado: /content/drive/Othercomputers/Mi PC (1)/GOOGLE DRIVE/DATA PESADA/cifras_poblacion_municipio_final/cifras_municipio_mujeres_2004_formato_ancho.csv\n",
            "✅ Guardado: /content/drive/Othercomputers/Mi PC (1)/GOOGLE DRIVE/DATA PESADA/cifras_poblacion_municipio_final/cifras_municipio_hombres_2005_formato_ancho.csv\n",
            "✅ Guardado: /content/drive/Othercomputers/Mi PC (1)/GOOGLE DRIVE/DATA PESADA/cifras_poblacion_municipio_final/cifras_municipio_mujeres_2005_formato_ancho.csv\n",
            "✅ Guardado: /content/drive/Othercomputers/Mi PC (1)/GOOGLE DRIVE/DATA PESADA/cifras_poblacion_municipio_final/cifras_municipio_hombres_2006_formato_ancho.csv\n",
            "✅ Guardado: /content/drive/Othercomputers/Mi PC (1)/GOOGLE DRIVE/DATA PESADA/cifras_poblacion_municipio_final/cifras_municipio_mujeres_2006_formato_ancho.csv\n",
            "✅ Guardado: /content/drive/Othercomputers/Mi PC (1)/GOOGLE DRIVE/DATA PESADA/cifras_poblacion_municipio_final/cifras_municipio_hombres_2007_formato_ancho.csv\n",
            "✅ Guardado: /content/drive/Othercomputers/Mi PC (1)/GOOGLE DRIVE/DATA PESADA/cifras_poblacion_municipio_final/cifras_municipio_mujeres_2007_formato_ancho.csv\n",
            "✅ Guardado: /content/drive/Othercomputers/Mi PC (1)/GOOGLE DRIVE/DATA PESADA/cifras_poblacion_municipio_final/cifras_municipio_hombres_2008_formato_ancho.csv\n",
            "✅ Guardado: /content/drive/Othercomputers/Mi PC (1)/GOOGLE DRIVE/DATA PESADA/cifras_poblacion_municipio_final/cifras_municipio_mujeres_2008_formato_ancho.csv\n",
            "✅ Guardado: /content/drive/Othercomputers/Mi PC (1)/GOOGLE DRIVE/DATA PESADA/cifras_poblacion_municipio_final/cifras_municipio_hombres_2009_formato_ancho.csv\n",
            "✅ Guardado: /content/drive/Othercomputers/Mi PC (1)/GOOGLE DRIVE/DATA PESADA/cifras_poblacion_municipio_final/cifras_municipio_mujeres_2009_formato_ancho.csv\n",
            "✅ Guardado: /content/drive/Othercomputers/Mi PC (1)/GOOGLE DRIVE/DATA PESADA/cifras_poblacion_municipio_final/cifras_municipio_hombres_2010_formato_ancho.csv\n",
            "✅ Guardado: /content/drive/Othercomputers/Mi PC (1)/GOOGLE DRIVE/DATA PESADA/cifras_poblacion_municipio_final/cifras_municipio_mujeres_2010_formato_ancho.csv\n",
            "✅ Guardado: /content/drive/Othercomputers/Mi PC (1)/GOOGLE DRIVE/DATA PESADA/cifras_poblacion_municipio_final/cifras_municipio_hombres_2011_formato_ancho.csv\n",
            "✅ Guardado: /content/drive/Othercomputers/Mi PC (1)/GOOGLE DRIVE/DATA PESADA/cifras_poblacion_municipio_final/cifras_municipio_mujeres_2011_formato_ancho.csv\n",
            "✅ Guardado: /content/drive/Othercomputers/Mi PC (1)/GOOGLE DRIVE/DATA PESADA/cifras_poblacion_municipio_final/cifras_municipio_hombres_2012_formato_ancho.csv\n",
            "✅ Guardado: /content/drive/Othercomputers/Mi PC (1)/GOOGLE DRIVE/DATA PESADA/cifras_poblacion_municipio_final/cifras_municipio_mujeres_2012_formato_ancho.csv\n",
            "✅ Guardado: /content/drive/Othercomputers/Mi PC (1)/GOOGLE DRIVE/DATA PESADA/cifras_poblacion_municipio_final/cifras_municipio_hombres_2013_formato_ancho.csv\n",
            "✅ Guardado: /content/drive/Othercomputers/Mi PC (1)/GOOGLE DRIVE/DATA PESADA/cifras_poblacion_municipio_final/cifras_municipio_mujeres_2013_formato_ancho.csv\n",
            "✅ Guardado: /content/drive/Othercomputers/Mi PC (1)/GOOGLE DRIVE/DATA PESADA/cifras_poblacion_municipio_final/cifras_municipio_hombres_2014_formato_ancho.csv\n",
            "✅ Guardado: /content/drive/Othercomputers/Mi PC (1)/GOOGLE DRIVE/DATA PESADA/cifras_poblacion_municipio_final/cifras_municipio_mujeres_2014_formato_ancho.csv\n",
            "✅ Guardado: /content/drive/Othercomputers/Mi PC (1)/GOOGLE DRIVE/DATA PESADA/cifras_poblacion_municipio_final/cifras_municipio_hombres_2015_formato_ancho.csv\n",
            "✅ Guardado: /content/drive/Othercomputers/Mi PC (1)/GOOGLE DRIVE/DATA PESADA/cifras_poblacion_municipio_final/cifras_municipio_mujeres_2015_formato_ancho.csv\n",
            "✅ Guardado: /content/drive/Othercomputers/Mi PC (1)/GOOGLE DRIVE/DATA PESADA/cifras_poblacion_municipio_final/cifras_municipio_hombres_2016_formato_ancho.csv\n",
            "✅ Guardado: /content/drive/Othercomputers/Mi PC (1)/GOOGLE DRIVE/DATA PESADA/cifras_poblacion_municipio_final/cifras_municipio_mujeres_2016_formato_ancho.csv\n",
            "✅ Guardado: /content/drive/Othercomputers/Mi PC (1)/GOOGLE DRIVE/DATA PESADA/cifras_poblacion_municipio_final/cifras_municipio_hombres_2017_formato_ancho.csv\n",
            "✅ Guardado: /content/drive/Othercomputers/Mi PC (1)/GOOGLE DRIVE/DATA PESADA/cifras_poblacion_municipio_final/cifras_municipio_mujeres_2017_formato_ancho.csv\n",
            "✅ Guardado: /content/drive/Othercomputers/Mi PC (1)/GOOGLE DRIVE/DATA PESADA/cifras_poblacion_municipio_final/cifras_municipio_hombres_2018_formato_ancho.csv\n",
            "✅ Guardado: /content/drive/Othercomputers/Mi PC (1)/GOOGLE DRIVE/DATA PESADA/cifras_poblacion_municipio_final/cifras_municipio_mujeres_2018_formato_ancho.csv\n",
            "✅ Guardado: /content/drive/Othercomputers/Mi PC (1)/GOOGLE DRIVE/DATA PESADA/cifras_poblacion_municipio_final/cifras_municipio_hombres_2019_formato_ancho.csv\n",
            "✅ Guardado: /content/drive/Othercomputers/Mi PC (1)/GOOGLE DRIVE/DATA PESADA/cifras_poblacion_municipio_final/cifras_municipio_mujeres_2019_formato_ancho.csv\n",
            "✅ Guardado: /content/drive/Othercomputers/Mi PC (1)/GOOGLE DRIVE/DATA PESADA/cifras_poblacion_municipio_final/cifras_municipio_hombres_2020_formato_ancho.csv\n",
            "✅ Guardado: /content/drive/Othercomputers/Mi PC (1)/GOOGLE DRIVE/DATA PESADA/cifras_poblacion_municipio_final/cifras_municipio_mujeres_2020_formato_ancho.csv\n",
            "✅ Guardado: /content/drive/Othercomputers/Mi PC (1)/GOOGLE DRIVE/DATA PESADA/cifras_poblacion_municipio_final/cifras_municipio_hombres_2021_formato_ancho.csv\n",
            "✅ Guardado: /content/drive/Othercomputers/Mi PC (1)/GOOGLE DRIVE/DATA PESADA/cifras_poblacion_municipio_final/cifras_municipio_mujeres_2021_formato_ancho.csv\n",
            "✅ Guardado: /content/drive/Othercomputers/Mi PC (1)/GOOGLE DRIVE/DATA PESADA/cifras_poblacion_municipio_final/cifras_municipio_hombres_2022_formato_ancho.csv\n",
            "✅ Guardado: /content/drive/Othercomputers/Mi PC (1)/GOOGLE DRIVE/DATA PESADA/cifras_poblacion_municipio_final/cifras_municipio_mujeres_2022_formato_ancho.csv\n"
          ]
        }
      ]
    },
    {
      "cell_type": "markdown",
      "source": [
        "### cargamos uno de ejemplo"
      ],
      "metadata": {
        "id": "TYwo4KM3kfeR"
      }
    },
    {
      "cell_type": "code",
      "source": [
        "import polars as pl\n",
        "\n",
        "ejemplo_path = \"/content/drive/Othercomputers/Mi PC (1)/GOOGLE DRIVE/DATA PESADA/cifras_poblacion_municipio_final/cifras_municipio_hombres_2022_formato_ancho.csv\"\n",
        "\n",
        "df_ejemplo = pl.read_csv(ejemplo_path, separator=\";\")\n",
        "df_ejemplo.head()\n"
      ],
      "metadata": {
        "colab": {
          "base_uri": "https://localhost:8080/",
          "height": 275
        },
        "id": "XK7ZESykkHtT",
        "outputId": "be7b71a0-87f5-4f02-b696-55816fe42806"
      },
      "execution_count": 52,
      "outputs": [
        {
          "output_type": "execute_result",
          "data": {
            "text/plain": [
              "shape: (5, 102)\n",
              "┌─────────┬─────────┬─────────┬─────────┬───┬─────┬─────┬─────┬────────┐\n",
              "│ cod_mun ┆ 0       ┆ 1       ┆ 2       ┆ … ┆ 97  ┆ 98  ┆ 99  ┆ 100    │\n",
              "│ ---     ┆ ---     ┆ ---     ┆ ---     ┆   ┆ --- ┆ --- ┆ --- ┆ ---    │\n",
              "│ i64     ┆ f64     ┆ f64     ┆ f64     ┆   ┆ f64 ┆ f64 ┆ f64 ┆ f64    │\n",
              "╞═════════╪═════════╪═════════╪═════════╪═══╪═════╪═════╪═════╪════════╡\n",
              "│ 1001    ┆ 12000.0 ┆ 12000.0 ┆ 9000.0  ┆ … ┆ 0.0 ┆ 0.0 ┆ 0.0 ┆ 0.0    │\n",
              "│ 1002    ┆ 34000.0 ┆ 57000.0 ┆ 41000.0 ┆ … ┆ 0.0 ┆ 0.0 ┆ 0.0 ┆ 1000.0 │\n",
              "│ 1003    ┆ 3000.0  ┆ 4000.0  ┆ 5000.0  ┆ … ┆ 0.0 ┆ 0.0 ┆ 0.0 ┆ 0.0    │\n",
              "│ 1004    ┆ 4000.0  ┆ 7000.0  ┆ 5000.0  ┆ … ┆ 0.0 ┆ 0.0 ┆ 0.0 ┆ 0.0    │\n",
              "│ 1006    ┆ 1000.0  ┆ 0.0     ┆ 1000.0  ┆ … ┆ 0.0 ┆ 0.0 ┆ 0.0 ┆ 0.0    │\n",
              "└─────────┴─────────┴─────────┴─────────┴───┴─────┴─────┴─────┴────────┘"
            ],
            "text/html": [
              "<div><style>\n",
              ".dataframe > thead > tr,\n",
              ".dataframe > tbody > tr {\n",
              "  text-align: right;\n",
              "  white-space: pre-wrap;\n",
              "}\n",
              "</style>\n",
              "<small>shape: (5, 102)</small><table border=\"1\" class=\"dataframe\"><thead><tr><th>cod_mun</th><th>0</th><th>1</th><th>2</th><th>3</th><th>4</th><th>5</th><th>6</th><th>7</th><th>8</th><th>9</th><th>10</th><th>11</th><th>12</th><th>13</th><th>14</th><th>15</th><th>16</th><th>17</th><th>18</th><th>19</th><th>20</th><th>21</th><th>22</th><th>23</th><th>24</th><th>25</th><th>26</th><th>27</th><th>28</th><th>29</th><th>30</th><th>31</th><th>32</th><th>33</th><th>34</th><th>35</th><th>&hellip;</th><th>64</th><th>65</th><th>66</th><th>67</th><th>68</th><th>69</th><th>70</th><th>71</th><th>72</th><th>73</th><th>74</th><th>75</th><th>76</th><th>77</th><th>78</th><th>79</th><th>80</th><th>81</th><th>82</th><th>83</th><th>84</th><th>85</th><th>86</th><th>87</th><th>88</th><th>89</th><th>90</th><th>91</th><th>92</th><th>93</th><th>94</th><th>95</th><th>96</th><th>97</th><th>98</th><th>99</th><th>100</th></tr><tr><td>i64</td><td>f64</td><td>f64</td><td>f64</td><td>f64</td><td>f64</td><td>f64</td><td>f64</td><td>f64</td><td>f64</td><td>f64</td><td>f64</td><td>f64</td><td>f64</td><td>f64</td><td>f64</td><td>f64</td><td>f64</td><td>f64</td><td>f64</td><td>f64</td><td>f64</td><td>f64</td><td>f64</td><td>f64</td><td>f64</td><td>f64</td><td>f64</td><td>f64</td><td>f64</td><td>f64</td><td>f64</td><td>f64</td><td>f64</td><td>f64</td><td>f64</td><td>f64</td><td>&hellip;</td><td>f64</td><td>f64</td><td>f64</td><td>f64</td><td>f64</td><td>f64</td><td>f64</td><td>f64</td><td>f64</td><td>f64</td><td>f64</td><td>f64</td><td>f64</td><td>f64</td><td>f64</td><td>f64</td><td>f64</td><td>f64</td><td>f64</td><td>f64</td><td>f64</td><td>f64</td><td>f64</td><td>f64</td><td>f64</td><td>f64</td><td>f64</td><td>f64</td><td>f64</td><td>f64</td><td>f64</td><td>f64</td><td>f64</td><td>f64</td><td>f64</td><td>f64</td><td>f64</td></tr></thead><tbody><tr><td>1001</td><td>12000.0</td><td>12000.0</td><td>9000.0</td><td>9000.0</td><td>14000.0</td><td>20000.0</td><td>20000.0</td><td>26000.0</td><td>16000.0</td><td>28000.0</td><td>22000.0</td><td>30000.0</td><td>21000.0</td><td>24000.0</td><td>27000.0</td><td>19000.0</td><td>19000.0</td><td>19000.0</td><td>14000.0</td><td>19000.0</td><td>22000.0</td><td>24000.0</td><td>13000.0</td><td>10000.0</td><td>7000.0</td><td>8000.0</td><td>9000.0</td><td>18000.0</td><td>7000.0</td><td>11000.0</td><td>17000.0</td><td>13000.0</td><td>18000.0</td><td>17000.0</td><td>9000.0</td><td>16000.0</td><td>&hellip;</td><td>14000.0</td><td>12000.0</td><td>8000.0</td><td>7000.0</td><td>15000.0</td><td>15000.0</td><td>13000.0</td><td>12000.0</td><td>9000.0</td><td>5000.0</td><td>4000.0</td><td>5000.0</td><td>5000.0</td><td>11000.0</td><td>10000.0</td><td>2000.0</td><td>9000.0</td><td>7000.0</td><td>6000.0</td><td>4000.0</td><td>4000.0</td><td>3000.0</td><td>1000.0</td><td>5000.0</td><td>1000.0</td><td>1000.0</td><td>0.0</td><td>0.0</td><td>1000.0</td><td>0.0</td><td>1000.0</td><td>0.0</td><td>0.0</td><td>0.0</td><td>0.0</td><td>0.0</td><td>0.0</td></tr><tr><td>1002</td><td>34000.0</td><td>57000.0</td><td>41000.0</td><td>52000.0</td><td>45000.0</td><td>58000.0</td><td>84000.0</td><td>49000.0</td><td>54000.0</td><td>67000.0</td><td>56000.0</td><td>50000.0</td><td>76000.0</td><td>53000.0</td><td>59000.0</td><td>49000.0</td><td>51000.0</td><td>48000.0</td><td>40000.0</td><td>36000.0</td><td>43000.0</td><td>44000.0</td><td>39000.0</td><td>48000.0</td><td>48000.0</td><td>42000.0</td><td>40000.0</td><td>44000.0</td><td>34000.0</td><td>45000.0</td><td>44000.0</td><td>32000.0</td><td>61000.0</td><td>63000.0</td><td>57000.0</td><td>56000.0</td><td>&hellip;</td><td>84000.0</td><td>48000.0</td><td>67000.0</td><td>57000.0</td><td>59000.0</td><td>83000.0</td><td>72000.0</td><td>55000.0</td><td>62000.0</td><td>60000.0</td><td>58000.0</td><td>42000.0</td><td>36000.0</td><td>53000.0</td><td>43000.0</td><td>31000.0</td><td>26000.0</td><td>27000.0</td><td>20000.0</td><td>16000.0</td><td>22000.0</td><td>14000.0</td><td>16000.0</td><td>18000.0</td><td>16000.0</td><td>8000.0</td><td>10000.0</td><td>13000.0</td><td>8000.0</td><td>4000.0</td><td>3000.0</td><td>2000.0</td><td>0.0</td><td>0.0</td><td>0.0</td><td>0.0</td><td>1000.0</td></tr><tr><td>1003</td><td>3000.0</td><td>4000.0</td><td>5000.0</td><td>5000.0</td><td>7000.0</td><td>4000.0</td><td>8000.0</td><td>6000.0</td><td>5000.0</td><td>7000.0</td><td>8000.0</td><td>4000.0</td><td>11000.0</td><td>11000.0</td><td>8000.0</td><td>7000.0</td><td>13000.0</td><td>11000.0</td><td>7000.0</td><td>8000.0</td><td>10000.0</td><td>6000.0</td><td>6000.0</td><td>10000.0</td><td>9000.0</td><td>3000.0</td><td>7000.0</td><td>6000.0</td><td>6000.0</td><td>8000.0</td><td>4000.0</td><td>6000.0</td><td>4000.0</td><td>8000.0</td><td>6000.0</td><td>2000.0</td><td>&hellip;</td><td>9000.0</td><td>13000.0</td><td>10000.0</td><td>15000.0</td><td>13000.0</td><td>7000.0</td><td>8000.0</td><td>10000.0</td><td>6000.0</td><td>7000.0</td><td>9000.0</td><td>9000.0</td><td>9000.0</td><td>8000.0</td><td>4000.0</td><td>5000.0</td><td>4000.0</td><td>3000.0</td><td>1000.0</td><td>5000.0</td><td>5000.0</td><td>8000.0</td><td>4000.0</td><td>4000.0</td><td>4000.0</td><td>3000.0</td><td>1000.0</td><td>1000.0</td><td>0.0</td><td>2000.0</td><td>0.0</td><td>0.0</td><td>0.0</td><td>0.0</td><td>0.0</td><td>0.0</td><td>0.0</td></tr><tr><td>1004</td><td>4000.0</td><td>7000.0</td><td>5000.0</td><td>7000.0</td><td>7000.0</td><td>14000.0</td><td>10000.0</td><td>9000.0</td><td>7000.0</td><td>22000.0</td><td>14000.0</td><td>14000.0</td><td>14000.0</td><td>2000.0</td><td>15000.0</td><td>12000.0</td><td>9000.0</td><td>15000.0</td><td>13000.0</td><td>10000.0</td><td>8000.0</td><td>9000.0</td><td>8000.0</td><td>10000.0</td><td>5000.0</td><td>7000.0</td><td>7000.0</td><td>3000.0</td><td>9000.0</td><td>10000.0</td><td>4000.0</td><td>5000.0</td><td>5000.0</td><td>8000.0</td><td>6000.0</td><td>12000.0</td><td>&hellip;</td><td>14000.0</td><td>9000.0</td><td>8000.0</td><td>11000.0</td><td>18000.0</td><td>10000.0</td><td>13000.0</td><td>8000.0</td><td>7000.0</td><td>4000.0</td><td>11000.0</td><td>4000.0</td><td>5000.0</td><td>6000.0</td><td>4000.0</td><td>1000.0</td><td>3000.0</td><td>3000.0</td><td>2000.0</td><td>2000.0</td><td>2000.0</td><td>6000.0</td><td>3000.0</td><td>2000.0</td><td>0.0</td><td>1000.0</td><td>1000.0</td><td>0.0</td><td>0.0</td><td>1000.0</td><td>0.0</td><td>0.0</td><td>0.0</td><td>0.0</td><td>0.0</td><td>0.0</td><td>0.0</td></tr><tr><td>1006</td><td>1000.0</td><td>0.0</td><td>1000.0</td><td>0.0</td><td>0.0</td><td>2000.0</td><td>1000.0</td><td>1000.0</td><td>2000.0</td><td>1000.0</td><td>4000.0</td><td>1000.0</td><td>1000.0</td><td>2000.0</td><td>0.0</td><td>3000.0</td><td>2000.0</td><td>3000.0</td><td>1000.0</td><td>0.0</td><td>2000.0</td><td>0.0</td><td>2000.0</td><td>2000.0</td><td>0.0</td><td>0.0</td><td>0.0</td><td>2000.0</td><td>0.0</td><td>1000.0</td><td>0.0</td><td>0.0</td><td>0.0</td><td>0.0</td><td>1000.0</td><td>0.0</td><td>&hellip;</td><td>2000.0</td><td>2000.0</td><td>1000.0</td><td>0.0</td><td>0.0</td><td>1000.0</td><td>0.0</td><td>1000.0</td><td>1000.0</td><td>1000.0</td><td>2000.0</td><td>1000.0</td><td>0.0</td><td>0.0</td><td>2000.0</td><td>1000.0</td><td>0.0</td><td>1000.0</td><td>0.0</td><td>0.0</td><td>0.0</td><td>0.0</td><td>0.0</td><td>1000.0</td><td>0.0</td><td>0.0</td><td>0.0</td><td>0.0</td><td>0.0</td><td>0.0</td><td>0.0</td><td>0.0</td><td>0.0</td><td>0.0</td><td>0.0</td><td>0.0</td><td>0.0</td></tr></tbody></table></div>"
            ]
          },
          "metadata": {},
          "execution_count": 52
        }
      ]
    },
    {
      "cell_type": "code",
      "source": [
        "import pandas as pd\n",
        "\n",
        "# Assuming 'filename.txt' contains the data you want to load.\n",
        "try:\n",
        "  df = pd.read_csv('filename.txt', sep='\\t')  # Adjust the separator if needed\n",
        "  print(df)\n",
        "except FileNotFoundError:\n",
        "  print(\"File not found.\")\n",
        "except Exception as e:\n",
        "  print(f\"An error occurred: {e}\")\n"
      ],
      "metadata": {
        "id": "p0zBCELhleCF"
      },
      "execution_count": null,
      "outputs": []
    },
    {
      "cell_type": "markdown",
      "source": [
        "\n",
        "---\n",
        "\n",
        "## 📜 Informe de Procesamiento y Limpieza de Datos\n",
        "\n",
        "### 📌 Introducción\n",
        "\n",
        "Este informe documenta el procesamiento y limpieza de los datos de población por municipio en España, utilizando datos extraídos del Instituto Nacional de Estadística (INE). El objetivo fue transformar un conjunto de datos masivo y heterogéneo (más de 49 millones de registros) en un dataset estructurado, depurado y segmentado por año y sexo, adecuado para análisis demográficos o simulaciones.\n",
        "\n",
        "---\n",
        "\n",
        "### 🔧 Proceso Realizado\n",
        "\n",
        "| Etapa               | DataFrame Generado             | Descripción                                                                 | Nº Filas    | Nº Columnas | Nº NaN   |\n",
        "|---------------------|-------------------------------|-----------------------------------------------------------------------------|-------------|-------------|----------|\n",
        "| Original INE (.csv) | `df`                          | Lectura del archivo `.csv` descargado del INE                              | 49,792,320  | 5           | ~101,898 |\n",
        "| Limpieza Inicial    | `df_copia`                    | Conversión del campo `Total` a formato numérico                            | 49,792,320  | 5           | 101,898  |\n",
        "| Filtrado y Renombre | `df_copia_copia`              | Filtro por sexo y edad válida. Separación de código/nombre de municipios   | 32,865,400  | 6           | 67,266   |\n",
        "| Tratamiento de NaNs | `df_final`                    | Conversión a `float`, imputación de nulos con `0.0`                        | 32,865,400  | 6           | **0**    |\n",
        "| Segmentación anual  | `cifras_poblacion_municipio_*`| Separación por año y sexo (`Hombres` y `Mujeres`)                           | 821,635/año | 6           | 0        |\n",
        "\n",
        "---\n",
        "\n",
        "### 🗂️ Campos Procesados\n",
        "\n",
        "| Campo original       | Transformación                                                  |\n",
        "|----------------------|------------------------------------------------------------------|\n",
        "| `Sexo`               | Convertido a minúsculas, filtrado `Hombres` y `Mujeres`          |\n",
        "| `Municipios`         | Separado en `municipio_code` y `municipio_name`                 |\n",
        "| `Edad (año a año)`   | Extraído número de edad, excluidas edades no numéricas          |\n",
        "| `Periodo`            | Extraído únicamente el año (e.g. \"2022\")                         |\n",
        "| `Total`              | Eliminados separadores de miles, convertido a `float`, NaNs a 0 |\n",
        "\n",
        "---\n",
        "\n",
        "### 🧼 Municipios con NaNs detectados\n",
        "\n",
        "Durante el proceso se detectaron **67,266 valores faltantes** en la variable `total`, especialmente en municipios como:\n",
        "\n",
        "- **Alagón del Río (10903)**\n",
        "- **Ziortza-Bolibar (48915)**\n",
        "\n",
        "En lugar de eliminar estos registros, se optó por imputar el valor **0.0**, ya que se trataba de edades sin población registrada.\n",
        "\n",
        "---\n",
        "\n",
        "### 📁 Dataset Final\n",
        "\n",
        "- **Archivo principal**: `df_final.csv`\n",
        "- **Segmentación anual**:\n",
        "  - `cifras_municipio_hombres_2003.csv` a `cifras_municipio_hombres_2022.csv`\n",
        "  - `cifras_municipio_mujeres_2003.csv` a `cifras_municipio_mujeres_2022.csv`\n",
        "- **Registros por año y sexo**: **821,635 filas**\n",
        "- **Dataset total post-filtrado**: **32,865,400 registros**\n",
        "\n",
        "---\n",
        "\n",
        "### 📊 Visualizaciones\n",
        "\n",
        "Se generaron dos tipos de gráficas:\n",
        "\n",
        "- **Evolución total de población por sexo (2003–2022)**\n",
        "- **Análisis específico del municipio de Melilla**\n",
        "\n",
        "---\n",
        "\n",
        "### ✅ Conclusiones\n",
        "\n",
        "- ✅ **Estructura final clara y homogénea** con campos relevantes (`sexo`, `edad`, `municipio_code`, `total`, `periodo`)\n",
        "- 🔄 **Tratamiento eficaz de valores nulos** mediante imputación a cero\n",
        "- 📁 **Exportación modular por año y sexo**, ideal para análisis longitudinales\n",
        "- 📉 Reducción del volumen de datos desde 49M a 32M de alta calidad\n",
        "\n",
        "> El dataset final está listo para integrarse en simuladores, modelos estadísticos o visualizaciones geográficas de población.\n",
        "\n",
        "---\n",
        "\n"
      ],
      "metadata": {
        "id": "9BxqQEJhfv5Q"
      }
    }
  ]
}